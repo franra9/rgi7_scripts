{
 "cells": [
  {
   "cell_type": "markdown",
   "id": "coral-better",
   "metadata": {},
   "source": [
    "# RGI-07: Region 12 (Caucasus and Middle East)\n",
    "\n",
    "F. Maussion & S. Galos, June 2021"
   ]
  },
  {
   "cell_type": "code",
   "execution_count": 1,
   "id": "spatial-concert",
   "metadata": {},
   "outputs": [],
   "source": [
    "import geopandas as gpd\n",
    "import pandas as pd\n",
    "import matplotlib.pyplot as plt\n",
    "import subprocess\n",
    "import os\n",
    "from utils import mkdir"
   ]
  },
  {
   "cell_type": "markdown",
   "id": "checked-oxide",
   "metadata": {},
   "source": [
    "## Files and storage paths"
   ]
  },
  {
   "cell_type": "code",
   "execution_count": 2,
   "id": "working-anger",
   "metadata": {},
   "outputs": [],
   "source": [
    "# Region of interest \n",
    "reg = 12\n",
    "\n",
    "# go down from rgi7_scripts/workflow\n",
    "data_dir = '../../rgi7_data/'\n",
    "\n",
    "# Level 2 GLIMS files\n",
    "l2_dir = os.path.join(data_dir, 'l2_sel_reg_tars')\n",
    "\n",
    "# Output directories\n",
    "output_dir = mkdir(os.path.join(data_dir, 'l3_rgi7a'))\n",
    "output_dir_tar = mkdir(os.path.join(data_dir, 'l3_rgi7a_tar'))\n",
    "\n",
    "# RGI v6 file for comparison later \n",
    "rgi6_reg_file = os.path.join(data_dir, 'l0_RGIv6', '12_rgi60_CaucasusMiddleEast.zip')"
   ]
  },
  {
   "cell_type": "code",
   "execution_count": 3,
   "id": "antique-gather",
   "metadata": {},
   "outputs": [],
   "source": [
    "# Specific to this region: boxes where data has to be selected differently\n",
    "support_dir = os.path.join(data_dir, 'l0_support_data')\n",
    "box_file = os.path.join(support_dir, 'RGI07_R12_UCA.tar.gz')"
   ]
  },
  {
   "cell_type": "markdown",
   "id": "hundred-candy",
   "metadata": {},
   "source": [
    "### Load the input data"
   ]
  },
  {
   "cell_type": "code",
   "execution_count": 4,
   "id": "conservative-formula",
   "metadata": {},
   "outputs": [],
   "source": [
    "# Read L2 files\n",
    "shp = gpd.read_file('tar://' + l2_dir + f'/RGI{reg:02d}.tar.gz/RGI{reg:02d}/RGI{reg:02d}.shp')"
   ]
  },
  {
   "cell_type": "markdown",
   "id": "frozen-tournament",
   "metadata": {},
   "source": [
    "### List of submissions "
   ]
  },
  {
   "cell_type": "code",
   "execution_count": 5,
   "id": "annual-projector",
   "metadata": {},
   "outputs": [
    {
     "name": "stdout",
     "output_type": "stream",
     "text": [
      " 76.0 Nosenko, Gennadi (Gennady) 2004\n",
      " 79.0 Nosenko, Gennadi (Gennady) 2004\n",
      " 81.0 Nosenko, Gennadi (Gennady) 2004\n",
      " 83.0 Nosenko, Gennadi (Gennady) 2004\n",
      " 87.0 Nosenko, Gennadi (Gennady) 2004\n",
      " 327.0 Khromova, Tatyana 2001\n",
      " 341.0 Seliverstov, Yriy 2000\n",
      " 423.0 Nosenko, Gennadi (Gennady) 2004\n",
      " 424.0 Nosenko, Gennadi (Gennady) 1999\n",
      " 425.0 Khromova, Tatyana 1999\n",
      " 426.0 Nosenko, Gennadi (Gennady) 1999\n",
      " 427.0 Nosenko, Gennadi (Gennady) 2001\n",
      " 428.0 Nosenko, Gennadi (Gennady) 2004\n",
      " 429.0 Nosenko, Gennadi (Gennady) 2004\n",
      " 588.0 Ashkan, Farokhnia; Karimi, Neamat; Sara, Sheshangosht 2011\n",
      " 642.0 Tielidze, Levan 2014 2013 2014 2014 2011 2016\n",
      " 643.0 Tielidze, Levan 1987 1985 1986 1986 1986 1987\n",
      " 644.0 Tielidze, Levan 1960\n",
      " 662.0 Sarikaya, Mehmet Akif 2008 2006 2006 2004 2008 2009 2011\n",
      " 724.0 Tielidze, Levan 1999 2000 2000 2000 1999 2002\n"
     ]
    }
   ],
   "source": [
    "toprint = []\n",
    "for subid in shp.subm_id.unique():\n",
    "    s_loc = shp.loc[shp.subm_id == subid]\n",
    "    s = ''\n",
    "    for c in ['subm_id', 'analysts', 'src_date']:\n",
    "        toprint = s_loc[c].unique()\n",
    "        if c != 'src_date':\n",
    "            s += ' ' + (str(toprint[0]))\n",
    "        else:\n",
    "            for d in toprint:\n",
    "                s += ' ' + d[:4]\n",
    "    print(s)"
   ]
  },
  {
   "cell_type": "markdown",
   "id": "sophisticated-subject",
   "metadata": {},
   "source": [
    "### Apply selection criteria to create the RGI7 data subset"
   ]
  },
  {
   "cell_type": "code",
   "execution_count": 6,
   "id": "painful-dairy",
   "metadata": {},
   "outputs": [
    {
     "data": {
      "text/plain": [
       "2185"
      ]
     },
     "execution_count": 6,
     "metadata": {},
     "output_type": "execute_result"
    }
   ],
   "source": [
    "# try to get the data relevant for RGI07 and select by attributes - \n",
    "# for Caucasus we use 'subm_id' 642 by analyst 'Tielidze, Levan' which corresponds to the most recent (ca. 2013)\n",
    "# of three available data sets for Caucasus by this anayst (others are from around 1960 and appr. 1985 respectively)\n",
    "RGI_ss_caucasus = shp.loc[shp['subm_id'] == 724]\n",
    "len(RGI_ss_caucasus)"
   ]
  },
  {
   "cell_type": "code",
   "execution_count": 7,
   "id": "graduate-sunset",
   "metadata": {},
   "outputs": [
    {
     "data": {
      "text/plain": [
       "484"
      ]
     },
     "execution_count": 7,
     "metadata": {},
     "output_type": "execute_result"
    }
   ],
   "source": [
    "# try to get the data relevant for RGI07 and select by attributes - for Middle East: 'subm_id' 588 ()\n",
    "RGI_ss_middle_east = shp.loc[shp['subm_id'] == 588]\n",
    "len(RGI_ss_middle_east)"
   ]
  },
  {
   "cell_type": "code",
   "execution_count": 8,
   "id": "announced-thumb",
   "metadata": {},
   "outputs": [
    {
     "data": {
      "text/plain": [
       "line_type                                            glac_bound\n",
       "anlys_id                                               297051.0\n",
       "glac_id                                          G049337E33320N\n",
       "anlys_time                                  2014-07-05T00:00:00\n",
       "area                                                4651.577985\n",
       "db_area                                                0.004652\n",
       "width                                                       0.0\n",
       "length                                                      0.0\n",
       "primeclass                                                  0.0\n",
       "min_elev                                                    0.0\n",
       "mean_elev                                                   0.0\n",
       "max_elev                                                    0.0\n",
       "src_date                                    2011-09-01T00:00:00\n",
       "rec_status                                                 okay\n",
       "glac_name                                                  None\n",
       "wgms_id                                                    None\n",
       "local_id                               GR49.3363E33.3198N_Osh15\n",
       "glac_stat                                                exists\n",
       "subm_id                                                   588.0\n",
       "release_dt                                  2015-03-06T09:00:00\n",
       "proc_desc     Image band ratio method for clean ice; thermal...\n",
       "rc_id                                                      23.0\n",
       "geog_area                                                  Iran\n",
       "chief_affl                  K.N. Toosi University of Technology\n",
       "loc_unc_x                                                    50\n",
       "loc_unc_y                                                    50\n",
       "glob_unc_x                                                   80\n",
       "glob_unc_y                                                   80\n",
       "submitters                                       Karimi, Neamat\n",
       "analysts      Ashkan, Farokhnia; Karimi, Neamat; Sara, Shesh...\n",
       "CenLon                                                 49.33693\n",
       "CenLat                                                33.319925\n",
       "geometry      POLYGON Z ((49.336855 33.320444 0, 49.336874 3...\n",
       "Name: 1299, dtype: object"
      ]
     },
     "execution_count": 8,
     "metadata": {},
     "output_type": "execute_result"
    }
   ],
   "source": [
    "RGI_ss_middle_east.iloc[0]"
   ]
  },
  {
   "cell_type": "code",
   "execution_count": 9,
   "id": "massive-precipitation",
   "metadata": {},
   "outputs": [],
   "source": [
    "# combine the two geodataframes\n",
    "RGI_ss = RGI_ss_caucasus.append(RGI_ss_middle_east)"
   ]
  },
  {
   "cell_type": "markdown",
   "id": "aggressive-asian",
   "metadata": {},
   "source": [
    "### Should we add some 1985 glaciers for completeness?"
   ]
  },
  {
   "cell_type": "markdown",
   "id": "dietary-measurement",
   "metadata": {},
   "source": [
    "Hugonnet et al made a subjective choice to add some 1985 glaciers... should we as well?"
   ]
  },
  {
   "cell_type": "code",
   "execution_count": 10,
   "id": "mounted-globe",
   "metadata": {},
   "outputs": [],
   "source": [
    "# We decided not to for now\n",
    "# EG:\n",
    "# RGI_ss_caucasus_1985 = shp.loc[shp['subm_id'] == 644]\n",
    "# len(RGI_ss_caucasus_1985)"
   ]
  },
  {
   "cell_type": "markdown",
   "id": "impressive-limit",
   "metadata": {},
   "source": [
    "### Should we add missing glaciers (only a few in peripheral areas) based on RGI06?"
   ]
  },
  {
   "cell_type": "markdown",
   "id": "objective-welcome",
   "metadata": {},
   "source": [
    "This is done based on a manually created shapefile mask containing the few glacierized areas not considered in the above data. Note that many of the glaciers added by this procedure are not glaciers by common definition but rock glaciers or even areas without ice in reality. Apart from that, outlines partly suffer from incorrect spatial positioning etc...  "
   ]
  },
  {
   "cell_type": "code",
   "execution_count": 11,
   "id": "alert-indie",
   "metadata": {},
   "outputs": [],
   "source": [
    "# load a shapefile containing polygons which define areas uncovered by newly created RGI07 file\n",
    "UCA = gpd.read_file('tar://' + box_file + '/RGI07_R12_UCA/RGI07_R12_UCA.shp')"
   ]
  },
  {
   "cell_type": "code",
   "execution_count": 12,
   "id": "diverse-hebrew",
   "metadata": {},
   "outputs": [],
   "source": [
    "# extract glacier outlines for regions mentioned above from glims data\n",
    "df_UCA = gpd.overlay(shp, UCA, how='intersection')"
   ]
  },
  {
   "cell_type": "code",
   "execution_count": 13,
   "id": "minute-immunology",
   "metadata": {},
   "outputs": [],
   "source": [
    "# select submission ID of interesst (for RGI07 only subm_ID 662 available)\n",
    "df_UCA = df_UCA.loc[df_UCA['subm_id']== 724]"
   ]
  },
  {
   "cell_type": "code",
   "execution_count": 14,
   "id": "modular-edgar",
   "metadata": {},
   "outputs": [],
   "source": [
    "# append df_UCA to RGI_ss\n",
    "RGI_ss = RGI_ss.append(df_UCA, sort = False);"
   ]
  },
  {
   "cell_type": "markdown",
   "id": "worth-bleeding",
   "metadata": {},
   "source": [
    "## Write out and tar "
   ]
  },
  {
   "cell_type": "code",
   "execution_count": 15,
   "id": "portuguese-malta",
   "metadata": {},
   "outputs": [
    {
     "name": "stdout",
     "output_type": "stream",
     "text": [
      "Writing...\n",
      "Taring...\n",
      "RGI12/\n",
      "RGI12/RGI12.cpg\n",
      "RGI12/RGI12.dbf\n",
      "RGI12/RGI12.prj\n",
      "RGI12/RGI12.shp\n",
      "RGI12/RGI12.shx\n",
      "CompletedProcess(args=['tar', '-zcvf', '../../rgi7_data/l3_rgi7a_tar/RGI12.tar.gz', '-C', '../../rgi7_data/l3_rgi7a', 'RGI12'], returncode=0)\n"
     ]
    }
   ],
   "source": [
    "dd = mkdir(f'{output_dir}/RGI{reg:02d}/', reset=True)\n",
    "\n",
    "print('Writing...')\n",
    "RGI_ss.to_file(dd + f'RGI{reg:02d}.shp')\n",
    "\n",
    "print('Taring...')\n",
    "print(subprocess.run(['tar', '-zcvf', f'{output_dir_tar}/RGI{reg:02d}.tar.gz', '-C', output_dir, f'RGI{reg:02d}']))"
   ]
  },
  {
   "cell_type": "markdown",
   "id": "engaged-rescue",
   "metadata": {},
   "source": [
    "## New RGI-file created - Check result!"
   ]
  },
  {
   "cell_type": "markdown",
   "id": "returning-paintball",
   "metadata": {},
   "source": [
    "### load reference data (here RGI6) to enable comparison"
   ]
  },
  {
   "cell_type": "code",
   "execution_count": 16,
   "id": "animal-thanks",
   "metadata": {},
   "outputs": [],
   "source": [
    "# Just to know the name of the file to open from zip\n",
    "import zipfile\n",
    "with zipfile.ZipFile(rgi6_reg_file, \"r\") as z:\n",
    "    for f in z.filelist:\n",
    "        if '.shp' in f.filename:\n",
    "            fname = f.filename\n",
    "\n",
    "# load reference data\n",
    "ref_odf = gpd.read_file('zip://' + rgi6_reg_file + '/' + fname)"
   ]
  },
  {
   "cell_type": "markdown",
   "id": "outdoor-greece",
   "metadata": {},
   "source": [
    "## Compare new RGI-file and reference data set "
   ]
  },
  {
   "cell_type": "markdown",
   "id": "solar-support",
   "metadata": {},
   "source": [
    "### Number of elements (differences do not necessarily depict major problems)"
   ]
  },
  {
   "cell_type": "code",
   "execution_count": 17,
   "id": "primary-shirt",
   "metadata": {},
   "outputs": [
    {
     "name": "stdout",
     "output_type": "stream",
     "text": [
      "Number of glaciers in new RGI subset: 2669\n",
      "Number of glaciers in reference data: 1888\n",
      "Difference: 781\n"
     ]
    }
   ],
   "source": [
    "print('Number of glaciers in new RGI subset:', len(RGI_ss))\n",
    "print('Number of glaciers in reference data:', len(ref_odf))\n",
    "print('Difference:', len(RGI_ss)-len(ref_odf))"
   ]
  },
  {
   "cell_type": "markdown",
   "id": "noted-camel",
   "metadata": {},
   "source": [
    "### How many nominal glaciers were there in RGI06-R12?"
   ]
  },
  {
   "cell_type": "code",
   "execution_count": 54,
   "id": "forward-palestinian",
   "metadata": {},
   "outputs": [
    {
     "data": {
      "text/plain": [
       "\u001b[0;31mType:\u001b[0m        Series\n",
       "\u001b[0;31mString form:\u001b[0m\n",
       "0       0\n",
       "1       0\n",
       "2       0\n",
       "3       0\n",
       "4       0\n",
       "       ..\n",
       "1883    0\n",
       "1884    0\n",
       "1885    0\n",
       "1886    0\n",
       "1887    0\n",
       "Name: Status, Length: 1888, dtype: int64\n",
       "\u001b[0;31mLength:\u001b[0m      1888\n",
       "\u001b[0;31mFile:\u001b[0m        ~/anaconda3/envs/geo_env/lib/python3.8/site-packages/pandas/core/series.py\n",
       "\u001b[0;31mDocstring:\u001b[0m  \n",
       "One-dimensional ndarray with axis labels (including time series).\n",
       "\n",
       "Labels need not be unique but must be a hashable type. The object\n",
       "supports both integer- and label-based indexing and provides a host of\n",
       "methods for performing operations involving the index. Statistical\n",
       "methods from ndarray have been overridden to automatically exclude\n",
       "missing data (currently represented as NaN).\n",
       "\n",
       "Operations between Series (+, -, /, *, **) align values based on their\n",
       "associated index values-- they need not be the same length. The result\n",
       "index will be the sorted union of the two indexes.\n",
       "\n",
       "Parameters\n",
       "----------\n",
       "data : array-like, Iterable, dict, or scalar value\n",
       "    Contains data stored in Series. If data is a dict, argument order is\n",
       "    maintained.\n",
       "index : array-like or Index (1d)\n",
       "    Values must be hashable and have the same length as `data`.\n",
       "    Non-unique index values are allowed. Will default to\n",
       "    RangeIndex (0, 1, 2, ..., n) if not provided. If data is dict-like\n",
       "    and index is None, then the keys in the data are used as the index. If the\n",
       "    index is not None, the resulting Series is reindexed with the index values.\n",
       "dtype : str, numpy.dtype, or ExtensionDtype, optional\n",
       "    Data type for the output Series. If not specified, this will be\n",
       "    inferred from `data`.\n",
       "    See the :ref:`user guide <basics.dtypes>` for more usages.\n",
       "name : str, optional\n",
       "    The name to give to the Series.\n",
       "copy : bool, default False\n",
       "    Copy input data. Only affects Series or 1d ndarray input. See examples.\n",
       "\n",
       "Examples\n",
       "--------\n",
       "Constructing Series from a dictionary with an Index specified\n",
       "\n",
       ">>> d = {'a': 1, 'b': 2, 'c': 3}\n",
       ">>> ser = pd.Series(data=d, index=['a', 'b', 'c'])\n",
       ">>> ser\n",
       "a   1\n",
       "b   2\n",
       "c   3\n",
       "dtype: int64\n",
       "\n",
       "The keys of the dictionary match with the Index values, hence the Index\n",
       "values have no effect.\n",
       "\n",
       ">>> d = {'a': 1, 'b': 2, 'c': 3}\n",
       ">>> ser = pd.Series(data=d, index=['x', 'y', 'z'])\n",
       ">>> ser\n",
       "x   NaN\n",
       "y   NaN\n",
       "z   NaN\n",
       "dtype: float64\n",
       "\n",
       "Note that the Index is first build with the keys from the dictionary.\n",
       "After this the Series is reindexed with the given Index values, hence we\n",
       "get all NaN as a result.\n",
       "\n",
       "Constructing Series from a list with `copy=False`.\n",
       "\n",
       ">>> r = [1, 2]\n",
       ">>> ser = pd.Series(r, copy=False)\n",
       ">>> ser.iloc[0] = 999\n",
       ">>> r\n",
       "[1, 2]\n",
       ">>> ser\n",
       "0    999\n",
       "1      2\n",
       "dtype: int64\n",
       "\n",
       "Due to input data type the Series has a `copy` of\n",
       "the original data even though `copy=False`, so\n",
       "the data is unchanged.\n",
       "\n",
       "Constructing Series from a 1d ndarray with `copy=False`.\n",
       "\n",
       ">>> r = np.array([1, 2])\n",
       ">>> ser = pd.Series(r, copy=False)\n",
       ">>> ser.iloc[0] = 999\n",
       ">>> r\n",
       "array([999,   2])\n",
       ">>> ser\n",
       "0    999\n",
       "1      2\n",
       "dtype: int64\n",
       "\n",
       "Due to input data type the Series has a `view` on\n",
       "the original data, so\n",
       "the data is changed as well.\n"
      ]
     },
     "metadata": {},
     "output_type": "display_data"
    }
   ],
   "source": [
    "len(ref_odf.loc[ref_odf.Status == 2])\n",
    "ref_odf.Status?\n"
   ]
  },
  {
   "cell_type": "markdown",
   "id": "unexpected-regression",
   "metadata": {},
   "source": [
    "### Total area"
   ]
  },
  {
   "cell_type": "code",
   "execution_count": 19,
   "id": "secondary-riding",
   "metadata": {},
   "outputs": [],
   "source": [
    "# add an area field to RGI_ss and reference data\n",
    "RGI_ss['area'] = RGI_ss.to_crs({'proj':'cea'}).area\n",
    "ref_odf['area'] = ref_odf.to_crs({'proj':'cea'}).area"
   ]
  },
  {
   "cell_type": "code",
   "execution_count": 20,
   "id": "digital-telescope",
   "metadata": {},
   "outputs": [
    {
     "name": "stdout",
     "output_type": "stream",
     "text": [
      "Area RGI [km²]: 1421.5735921911878\n",
      "Area Ref [km²]: 1306.999710204219\n",
      "Area difference [km²]: 114.5738819869689\n"
     ]
    }
   ],
   "source": [
    "# print and compare area values\n",
    "Area_RGI = RGI_ss['area'].sum() * 1e-6\n",
    "print('Area RGI [km²]:', Area_RGI)\n",
    "Area_ref = ref_odf['area'].sum() * 1e-6\n",
    "print('Area Ref [km²]:', Area_ref)\n",
    "d = (Area_RGI - Area_ref)\n",
    "print('Area difference [km²]:', d)"
   ]
  },
  {
   "cell_type": "markdown",
   "id": "intensive-rally",
   "metadata": {},
   "source": [
    "### Here starts the comparison `RGI7a` with the original `Levan` dataset:\n",
    "The data is downloaded beforehand from https://zenodo.org/record/5116329#.YXqvaL9Byit\n",
    "\n",
    "Download: https://zenodo.org/record/5116329/files/CAUCASUS_GLACIERS_2000_2020_Tielidze%20et%20al.%202021.zip?download=1"
   ]
  },
  {
   "cell_type": "code",
   "execution_count": 52,
   "id": "696a6910-566b-4371-9f17-9f4b73257f41",
   "metadata": {},
   "outputs": [
    {
     "name": "stdout",
     "output_type": "stream",
     "text": [
      "804\n",
      "24\n",
      "1358\n"
     ]
    },
    {
     "data": {
      "text/html": [
       "<div>\n",
       "<style scoped>\n",
       "    .dataframe tbody tr th:only-of-type {\n",
       "        vertical-align: middle;\n",
       "    }\n",
       "\n",
       "    .dataframe tbody tr th {\n",
       "        vertical-align: top;\n",
       "    }\n",
       "\n",
       "    .dataframe thead th {\n",
       "        text-align: right;\n",
       "    }\n",
       "</style>\n",
       "<table border=\"1\" class=\"dataframe\">\n",
       "  <thead>\n",
       "    <tr style=\"text-align: right;\">\n",
       "      <th></th>\n",
       "      <th>OBJECTID</th>\n",
       "      <th>name</th>\n",
       "      <th>river_basi</th>\n",
       "      <th>main_river</th>\n",
       "      <th>SHAPE_Leng</th>\n",
       "      <th>SHAPE_Area</th>\n",
       "      <th>aspect</th>\n",
       "      <th>data</th>\n",
       "      <th>proc_desc</th>\n",
       "      <th>geogr_area</th>\n",
       "      <th>chief_affl</th>\n",
       "      <th>submitters</th>\n",
       "      <th>analysts</th>\n",
       "      <th>area</th>\n",
       "      <th>geometry</th>\n",
       "      <th>Name</th>\n",
       "      <th>MAIN_BASIN</th>\n",
       "      <th>sybmitters</th>\n",
       "    </tr>\n",
       "  </thead>\n",
       "  <tbody>\n",
       "    <tr>\n",
       "      <th>0</th>\n",
       "      <td>25</td>\n",
       "      <td>None</td>\n",
       "      <td>50</td>\n",
       "      <td>Baksan</td>\n",
       "      <td>697.628503</td>\n",
       "      <td>2.818993e+04</td>\n",
       "      <td>N</td>\n",
       "      <td>2000-08-12 and 2000-09-05 and 2000-09-12</td>\n",
       "      <td>Using the GIS 10.6.1 software manual digitizin...</td>\n",
       "      <td>Russian Caucasus</td>\n",
       "      <td>Victoria University of Wellington, New Zealand</td>\n",
       "      <td>Tielidze, Levan</td>\n",
       "      <td>Tielidze, Levan and Paul, Frank</td>\n",
       "      <td>0.028190</td>\n",
       "      <td>POLYGON ((316853.444 4789815.030, 316847.094 4...</td>\n",
       "      <td>NaN</td>\n",
       "      <td>NaN</td>\n",
       "      <td>NaN</td>\n",
       "    </tr>\n",
       "    <tr>\n",
       "      <th>1</th>\n",
       "      <td>53</td>\n",
       "      <td>Tiutiurgy</td>\n",
       "      <td>Gara_Auzusu</td>\n",
       "      <td>Chegem</td>\n",
       "      <td>16675.003207</td>\n",
       "      <td>3.553812e+06</td>\n",
       "      <td>NW</td>\n",
       "      <td>2000-08-12 and 2000-09-05</td>\n",
       "      <td>Using the GIS 10.6.1 software manual digitizin...</td>\n",
       "      <td>Russian Caucasus</td>\n",
       "      <td>Victoria University of Wellington, New Zealand</td>\n",
       "      <td>Tielidze, Levan</td>\n",
       "      <td>Tielidze, Levan and Paul, Frank</td>\n",
       "      <td>3.553810</td>\n",
       "      <td>POLYGON ((343598.191 4775069.867, 343594.223 4...</td>\n",
       "      <td>NaN</td>\n",
       "      <td>NaN</td>\n",
       "      <td>NaN</td>\n",
       "    </tr>\n",
       "    <tr>\n",
       "      <th>2</th>\n",
       "      <td>90</td>\n",
       "      <td>None</td>\n",
       "      <td>Bashil_Auzusu</td>\n",
       "      <td>Chegem</td>\n",
       "      <td>1914.490508</td>\n",
       "      <td>1.122588e+05</td>\n",
       "      <td>NW</td>\n",
       "      <td>2000-08-12 and 2000-09-05 and 2000-09-12</td>\n",
       "      <td>Using the GIS 10.6.1 software manual digitizin...</td>\n",
       "      <td>Russian Caucasus</td>\n",
       "      <td>Victoria University of Wellington, New Zealand</td>\n",
       "      <td>Tielidze, Levan</td>\n",
       "      <td>Tielidze, Levan and Paul, Frank</td>\n",
       "      <td>0.112259</td>\n",
       "      <td>POLYGON ((333462.008 4782705.007, 333468.626 4...</td>\n",
       "      <td>NaN</td>\n",
       "      <td>NaN</td>\n",
       "      <td>NaN</td>\n",
       "    </tr>\n",
       "    <tr>\n",
       "      <th>3</th>\n",
       "      <td>127</td>\n",
       "      <td>None</td>\n",
       "      <td>Teberda</td>\n",
       "      <td>Kuban</td>\n",
       "      <td>457.716567</td>\n",
       "      <td>1.520325e+04</td>\n",
       "      <td>N</td>\n",
       "      <td>2000-09-12</td>\n",
       "      <td>Using the GIS 10.6.1 software manual digitizin...</td>\n",
       "      <td>Russian Caucasus</td>\n",
       "      <td>Victoria University of Wellington, New Zealand</td>\n",
       "      <td>Tielidze, Levan</td>\n",
       "      <td>Tielidze, Levan and Paul, Frank</td>\n",
       "      <td>0.015203</td>\n",
       "      <td>POLYGON ((243531.861 4789276.299, 243532.386 4...</td>\n",
       "      <td>NaN</td>\n",
       "      <td>NaN</td>\n",
       "      <td>NaN</td>\n",
       "    </tr>\n",
       "    <tr>\n",
       "      <th>4</th>\n",
       "      <td>150</td>\n",
       "      <td>None</td>\n",
       "      <td>Bashil_Auzusu</td>\n",
       "      <td>Chegem</td>\n",
       "      <td>8491.911677</td>\n",
       "      <td>2.061720e+06</td>\n",
       "      <td>N</td>\n",
       "      <td>2000-08-12 and 2000-09-05 and 2000-09-12</td>\n",
       "      <td>Using the GIS 10.6.1 software manual digitizin...</td>\n",
       "      <td>Russian Caucasus</td>\n",
       "      <td>Victoria University of Wellington, New Zealand</td>\n",
       "      <td>Tielidze, Levan</td>\n",
       "      <td>Tielidze, Levan and Paul, Frank</td>\n",
       "      <td>2.061720</td>\n",
       "      <td>POLYGON ((334422.462 4781229.461, 334407.594 4...</td>\n",
       "      <td>NaN</td>\n",
       "      <td>NaN</td>\n",
       "      <td>NaN</td>\n",
       "    </tr>\n",
       "    <tr>\n",
       "      <th>...</th>\n",
       "      <td>...</td>\n",
       "      <td>...</td>\n",
       "      <td>...</td>\n",
       "      <td>...</td>\n",
       "      <td>...</td>\n",
       "      <td>...</td>\n",
       "      <td>...</td>\n",
       "      <td>...</td>\n",
       "      <td>...</td>\n",
       "      <td>...</td>\n",
       "      <td>...</td>\n",
       "      <td>...</td>\n",
       "      <td>...</td>\n",
       "      <td>...</td>\n",
       "      <td>...</td>\n",
       "      <td>...</td>\n",
       "      <td>...</td>\n",
       "      <td>...</td>\n",
       "    </tr>\n",
       "    <tr>\n",
       "      <th>799</th>\n",
       "      <td>1919</td>\n",
       "      <td>NaN</td>\n",
       "      <td>NaN</td>\n",
       "      <td>NaN</td>\n",
       "      <td>884.495175</td>\n",
       "      <td>4.724172e+04</td>\n",
       "      <td>NW</td>\n",
       "      <td>1999-09-01 and 2000-09-12 and 2001-08-05</td>\n",
       "      <td>Using the GIS 10.6.1 software manual digitizin...</td>\n",
       "      <td>Georgian Caucasus</td>\n",
       "      <td>Victoria University of Wellington, New Zealand</td>\n",
       "      <td>NaN</td>\n",
       "      <td>Tielidze, Levan and Paul, Frank</td>\n",
       "      <td>0.047242</td>\n",
       "      <td>POLYGON ((247975.078 4783602.934, 247981.188 4...</td>\n",
       "      <td>None</td>\n",
       "      <td>Kodori</td>\n",
       "      <td>Tielidze, Levan</td>\n",
       "    </tr>\n",
       "    <tr>\n",
       "      <th>800</th>\n",
       "      <td>1920</td>\n",
       "      <td>NaN</td>\n",
       "      <td>NaN</td>\n",
       "      <td>NaN</td>\n",
       "      <td>1332.117325</td>\n",
       "      <td>1.025520e+05</td>\n",
       "      <td>NE</td>\n",
       "      <td>1999-09-01 and 2000-09-12 and 2001-08-05</td>\n",
       "      <td>Using the GIS 10.6.1 software manual digitizin...</td>\n",
       "      <td>Georgian Caucasus</td>\n",
       "      <td>Victoria University of Wellington, New Zealand</td>\n",
       "      <td>NaN</td>\n",
       "      <td>Tielidze, Levan and Paul, Frank</td>\n",
       "      <td>0.102552</td>\n",
       "      <td>POLYGON ((245721.884 4791792.549, 245718.454 4...</td>\n",
       "      <td>50</td>\n",
       "      <td>Kodori</td>\n",
       "      <td>Tielidze, Levan</td>\n",
       "    </tr>\n",
       "    <tr>\n",
       "      <th>801</th>\n",
       "      <td>1921</td>\n",
       "      <td>NaN</td>\n",
       "      <td>NaN</td>\n",
       "      <td>NaN</td>\n",
       "      <td>740.059321</td>\n",
       "      <td>3.763786e+04</td>\n",
       "      <td>NE</td>\n",
       "      <td>1999-09-01 and 2000-09-12 and 2001-08-05</td>\n",
       "      <td>Using the GIS 10.6.1 software manual digitizin...</td>\n",
       "      <td>Georgian Caucasus</td>\n",
       "      <td>Victoria University of Wellington, New Zealand</td>\n",
       "      <td>NaN</td>\n",
       "      <td>Tielidze, Levan and Paul, Frank</td>\n",
       "      <td>0.037638</td>\n",
       "      <td>POLYGON ((202613.762 4795762.861, 202605.295 4...</td>\n",
       "      <td>50</td>\n",
       "      <td>Kodori</td>\n",
       "      <td>Tielidze, Levan</td>\n",
       "    </tr>\n",
       "    <tr>\n",
       "      <th>802</th>\n",
       "      <td>1922</td>\n",
       "      <td>NaN</td>\n",
       "      <td>NaN</td>\n",
       "      <td>NaN</td>\n",
       "      <td>672.654745</td>\n",
       "      <td>2.705299e+04</td>\n",
       "      <td>NE</td>\n",
       "      <td>1999-09-01 and 2000-09-12 and 2001-08-05</td>\n",
       "      <td>Using the GIS 10.6.1 software manual digitizin...</td>\n",
       "      <td>Georgian Caucasus</td>\n",
       "      <td>Victoria University of Wellington, New Zealand</td>\n",
       "      <td>NaN</td>\n",
       "      <td>Tielidze, Levan and Paul, Frank</td>\n",
       "      <td>0.027053</td>\n",
       "      <td>POLYGON ((204149.362 4795169.730, 204149.362 4...</td>\n",
       "      <td>50</td>\n",
       "      <td>Kodori</td>\n",
       "      <td>Tielidze, Levan</td>\n",
       "    </tr>\n",
       "    <tr>\n",
       "      <th>803</th>\n",
       "      <td>1924</td>\n",
       "      <td>NaN</td>\n",
       "      <td>NaN</td>\n",
       "      <td>NaN</td>\n",
       "      <td>987.674524</td>\n",
       "      <td>6.633383e+04</td>\n",
       "      <td>NW</td>\n",
       "      <td>1999-09-01 and 2001-08-05</td>\n",
       "      <td>Using the GIS 10.6.1 software manual digitizin...</td>\n",
       "      <td>Georgian Caucasus</td>\n",
       "      <td>Victoria University of Wellington, New Zealand</td>\n",
       "      <td>NaN</td>\n",
       "      <td>Tielidze, Levan and Paul, Frank</td>\n",
       "      <td>0.066334</td>\n",
       "      <td>POLYGON ((150235.053 4831238.453, 150238.649 4...</td>\n",
       "      <td>50</td>\n",
       "      <td>Bzipi</td>\n",
       "      <td>Tielidze, Levan</td>\n",
       "    </tr>\n",
       "  </tbody>\n",
       "</table>\n",
       "<p>2186 rows × 18 columns</p>\n",
       "</div>"
      ],
      "text/plain": [
       "     OBJECTID       name     river_basi main_river    SHAPE_Leng  \\\n",
       "0          25       None             50     Baksan    697.628503   \n",
       "1          53  Tiutiurgy    Gara_Auzusu     Chegem  16675.003207   \n",
       "2          90       None  Bashil_Auzusu     Chegem   1914.490508   \n",
       "3         127       None        Teberda      Kuban    457.716567   \n",
       "4         150       None  Bashil_Auzusu     Chegem   8491.911677   \n",
       "..        ...        ...            ...        ...           ...   \n",
       "799      1919        NaN            NaN        NaN    884.495175   \n",
       "800      1920        NaN            NaN        NaN   1332.117325   \n",
       "801      1921        NaN            NaN        NaN    740.059321   \n",
       "802      1922        NaN            NaN        NaN    672.654745   \n",
       "803      1924        NaN            NaN        NaN    987.674524   \n",
       "\n",
       "       SHAPE_Area aspect                                      data  \\\n",
       "0    2.818993e+04      N  2000-08-12 and 2000-09-05 and 2000-09-12   \n",
       "1    3.553812e+06     NW                 2000-08-12 and 2000-09-05   \n",
       "2    1.122588e+05     NW  2000-08-12 and 2000-09-05 and 2000-09-12   \n",
       "3    1.520325e+04      N                                2000-09-12   \n",
       "4    2.061720e+06      N  2000-08-12 and 2000-09-05 and 2000-09-12   \n",
       "..            ...    ...                                       ...   \n",
       "799  4.724172e+04     NW  1999-09-01 and 2000-09-12 and 2001-08-05   \n",
       "800  1.025520e+05     NE  1999-09-01 and 2000-09-12 and 2001-08-05   \n",
       "801  3.763786e+04     NE  1999-09-01 and 2000-09-12 and 2001-08-05   \n",
       "802  2.705299e+04     NE  1999-09-01 and 2000-09-12 and 2001-08-05   \n",
       "803  6.633383e+04     NW                 1999-09-01 and 2001-08-05   \n",
       "\n",
       "                                             proc_desc         geogr_area  \\\n",
       "0    Using the GIS 10.6.1 software manual digitizin...   Russian Caucasus   \n",
       "1    Using the GIS 10.6.1 software manual digitizin...   Russian Caucasus   \n",
       "2    Using the GIS 10.6.1 software manual digitizin...   Russian Caucasus   \n",
       "3    Using the GIS 10.6.1 software manual digitizin...   Russian Caucasus   \n",
       "4    Using the GIS 10.6.1 software manual digitizin...   Russian Caucasus   \n",
       "..                                                 ...                ...   \n",
       "799  Using the GIS 10.6.1 software manual digitizin...  Georgian Caucasus   \n",
       "800  Using the GIS 10.6.1 software manual digitizin...  Georgian Caucasus   \n",
       "801  Using the GIS 10.6.1 software manual digitizin...  Georgian Caucasus   \n",
       "802  Using the GIS 10.6.1 software manual digitizin...  Georgian Caucasus   \n",
       "803  Using the GIS 10.6.1 software manual digitizin...  Georgian Caucasus   \n",
       "\n",
       "                                         chief_affl       submitters  \\\n",
       "0    Victoria University of Wellington, New Zealand  Tielidze, Levan   \n",
       "1    Victoria University of Wellington, New Zealand  Tielidze, Levan   \n",
       "2    Victoria University of Wellington, New Zealand  Tielidze, Levan   \n",
       "3    Victoria University of Wellington, New Zealand  Tielidze, Levan   \n",
       "4    Victoria University of Wellington, New Zealand  Tielidze, Levan   \n",
       "..                                              ...              ...   \n",
       "799  Victoria University of Wellington, New Zealand              NaN   \n",
       "800  Victoria University of Wellington, New Zealand              NaN   \n",
       "801  Victoria University of Wellington, New Zealand              NaN   \n",
       "802  Victoria University of Wellington, New Zealand              NaN   \n",
       "803  Victoria University of Wellington, New Zealand              NaN   \n",
       "\n",
       "                            analysts      area  \\\n",
       "0    Tielidze, Levan and Paul, Frank  0.028190   \n",
       "1    Tielidze, Levan and Paul, Frank  3.553810   \n",
       "2    Tielidze, Levan and Paul, Frank  0.112259   \n",
       "3    Tielidze, Levan and Paul, Frank  0.015203   \n",
       "4    Tielidze, Levan and Paul, Frank  2.061720   \n",
       "..                               ...       ...   \n",
       "799  Tielidze, Levan and Paul, Frank  0.047242   \n",
       "800  Tielidze, Levan and Paul, Frank  0.102552   \n",
       "801  Tielidze, Levan and Paul, Frank  0.037638   \n",
       "802  Tielidze, Levan and Paul, Frank  0.027053   \n",
       "803  Tielidze, Levan and Paul, Frank  0.066334   \n",
       "\n",
       "                                              geometry  Name MAIN_BASIN  \\\n",
       "0    POLYGON ((316853.444 4789815.030, 316847.094 4...   NaN        NaN   \n",
       "1    POLYGON ((343598.191 4775069.867, 343594.223 4...   NaN        NaN   \n",
       "2    POLYGON ((333462.008 4782705.007, 333468.626 4...   NaN        NaN   \n",
       "3    POLYGON ((243531.861 4789276.299, 243532.386 4...   NaN        NaN   \n",
       "4    POLYGON ((334422.462 4781229.461, 334407.594 4...   NaN        NaN   \n",
       "..                                                 ...   ...        ...   \n",
       "799  POLYGON ((247975.078 4783602.934, 247981.188 4...  None     Kodori   \n",
       "800  POLYGON ((245721.884 4791792.549, 245718.454 4...    50     Kodori   \n",
       "801  POLYGON ((202613.762 4795762.861, 202605.295 4...    50     Kodori   \n",
       "802  POLYGON ((204149.362 4795169.730, 204149.362 4...    50     Kodori   \n",
       "803  POLYGON ((150235.053 4831238.453, 150238.649 4...    50      Bzipi   \n",
       "\n",
       "          sybmitters  \n",
       "0                NaN  \n",
       "1                NaN  \n",
       "2                NaN  \n",
       "3                NaN  \n",
       "4                NaN  \n",
       "..               ...  \n",
       "799  Tielidze, Levan  \n",
       "800  Tielidze, Levan  \n",
       "801  Tielidze, Levan  \n",
       "802  Tielidze, Levan  \n",
       "803  Tielidze, Levan  \n",
       "\n",
       "[2186 rows x 18 columns]"
      ]
     },
     "execution_count": 52,
     "metadata": {},
     "output_type": "execute_result"
    }
   ],
   "source": [
    "# Read original data:\n",
    "data_dir_lev = '../../rgi7_data/CAUCASUS_GLACIERS_2000_2020_Tielidze_et_al._2021'\n",
    "\n",
    "lev_RU = gpd.read_file('../../rgi7_data/CAUCASUS_GLACIERS_2000_2020_Tielidze_et_al._2021/CAU_GLAC_2000/CAU_GLAC_RUS_2000.shp')\n",
    "lev_AZ = gpd.read_file('../../rgi7_data/CAUCASUS_GLACIERS_2000_2020_Tielidze_et_al._2021/CAU_GLAC_2000/CAU_GLAC_AZER_2000.shp')\n",
    "lev_GE = gpd.read_file('../../rgi7_data/CAUCASUS_GLACIERS_2000_2020_Tielidze_et_al._2021/CAU_GLAC_2000/CAU_GLAC_GEO_2000.shp')\n",
    "\n",
    "lev = pd.concat([lev_RU, pd.concat([lev_AZ, lev_GE])])"
   ]
  },
  {
   "cell_type": "markdown",
   "id": "7c1290ff-bee3-49b7-a10d-832e8f6a70ae",
   "metadata": {},
   "source": []
  },
  {
   "cell_type": "code",
   "execution_count": 53,
   "id": "43884f6c-83f7-43c0-be57-a893391f78d9",
   "metadata": {},
   "outputs": [
    {
     "name": "stdout",
     "output_type": "stream",
     "text": [
      "Number of glaciers in new RGI subset: 2669\n",
      "Number of glaciers in reference data: 2186\n",
      "Difference: 483\n"
     ]
    }
   ],
   "source": [
    "print('Number of glaciers in new RGI subset:', len(RGI_ss))\n",
    "print('Number of glaciers in reference data:', len(lev))\n",
    "print('Difference:', len(RGI_ss)-len(lev))"
   ]
  },
  {
   "cell_type": "code",
   "execution_count": null,
   "id": "050d97e9-3591-4978-aab6-eba86bb2ea4e",
   "metadata": {},
   "outputs": [],
   "source": [
    "# add an area field to RGI_ss and reference data\n",
    "RGI_ss['area'] = RGI_ss.to_crs({'proj':'cea'}).area\n",
    "lev['area'] = lev.to_crs({'proj':'cea'}).area"
   ]
  },
  {
   "cell_type": "code",
   "execution_count": 56,
   "id": "ddd329fe-92be-43d5-9cc7-e177931de7dc",
   "metadata": {},
   "outputs": [
    {
     "name": "stdout",
     "output_type": "stream",
     "text": [
      "Area RGI [km²]: 1421.5735921911878\n",
      "Area Ref (lev) [km²]: 1381.54838484\n",
      "Area difference [km²]: 40.02520735118787\n"
     ]
    }
   ],
   "source": [
    "# print and compare area values\n",
    "Area_RGI = RGI_ss['area'].sum() * 1e-6\n",
    "print('Area RGI [km²]:', Area_RGI)\n",
    "Area_lev = lev['area'].sum() # already in km² (?)\n",
    "print('Area Ref (lev) [km²]:', Area_lev)\n",
    "d = (Area_RGI - Area_lev)\n",
    "print('Area difference [km²]:', d)"
   ]
  }
 ],
 "metadata": {
  "kernelspec": {
   "display_name": "Python 3 (ipykernel)",
   "language": "python",
   "name": "python3"
  },
  "language_info": {
   "codemirror_mode": {
    "name": "ipython",
    "version": 3
   },
   "file_extension": ".py",
   "mimetype": "text/x-python",
   "name": "python",
   "nbconvert_exporter": "python",
   "pygments_lexer": "ipython3",
   "version": "3.8.12"
  }
 },
 "nbformat": 4,
 "nbformat_minor": 5
}
