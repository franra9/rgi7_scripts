{
 "cells": [
  {
   "cell_type": "markdown",
   "id": "coral-better",
   "metadata": {},
   "source": [
    "# RGI-07: Region 12 (Caucasus and Middle East)\n",
    "\n",
    "F. Maussion & S. Galos, June 2021"
   ]
  },
  {
   "cell_type": "code",
   "execution_count": 1,
   "id": "spatial-concert",
   "metadata": {},
   "outputs": [],
   "source": [
    "import geopandas as gpd\n",
    "import pandas as pd\n",
    "import matplotlib.pyplot as plt\n",
    "import subprocess\n",
    "import os\n",
    "from utils import mkdir"
   ]
  },
  {
   "cell_type": "markdown",
   "id": "checked-oxide",
   "metadata": {},
   "source": [
    "## Files and storage paths"
   ]
  },
  {
   "cell_type": "code",
   "execution_count": 2,
   "id": "working-anger",
   "metadata": {},
   "outputs": [],
   "source": [
    "# Region of interest \n",
    "reg = 12\n",
    "\n",
    "# go down from rgi7_scripts/workflow\n",
    "data_dir = '../../rgi7_data/'\n",
    "\n",
    "# Level 2 GLIMS files\n",
    "l2_dir = os.path.join(data_dir, 'l2_sel_reg_tars')\n",
    "\n",
    "# Output directories\n",
    "output_dir = mkdir(os.path.join(data_dir, 'l3_rgi7a'))\n",
    "output_dir_tar = mkdir(os.path.join(data_dir, 'l3_rgi7a_tar'))\n",
    "\n",
    "# RGI v6 file for comparison later \n",
    "rgi6_reg_file = os.path.join(data_dir, 'l0_RGIv6', '12_rgi60_CaucasusMiddleEast.zip')"
   ]
  },
  {
   "cell_type": "code",
   "execution_count": 3,
   "id": "antique-gather",
   "metadata": {},
   "outputs": [],
   "source": [
    "# Specific to this region: boxes where data has to be selected differently\n",
    "support_dir = os.path.join(data_dir, 'l0_support_data')\n",
    "box_file = os.path.join(support_dir, 'RGI07_R12_UCA.tar.gz')"
   ]
  },
  {
   "cell_type": "markdown",
   "id": "hundred-candy",
   "metadata": {},
   "source": [
    "### Load the input data"
   ]
  },
  {
   "cell_type": "code",
   "execution_count": 4,
   "id": "conservative-formula",
   "metadata": {},
   "outputs": [],
   "source": [
    "# Read L2 files\n",
    "shp = gpd.read_file('tar://' + l2_dir + f'/RGI{reg:02d}.tar.gz/RGI{reg:02d}/RGI{reg:02d}.shp')"
   ]
  },
  {
   "cell_type": "markdown",
   "id": "frozen-tournament",
   "metadata": {},
   "source": [
    "### List of submissions "
   ]
  },
  {
   "cell_type": "code",
   "execution_count": 5,
   "id": "annual-projector",
   "metadata": {},
   "outputs": [
    {
     "name": "stdout",
     "output_type": "stream",
     "text": [
      " 76.0 Nosenko, Gennadi (Gennady) 2004\n",
      " 79.0 Nosenko, Gennadi (Gennady) 2004\n",
      " 81.0 Nosenko, Gennadi (Gennady) 2004\n",
      " 83.0 Nosenko, Gennadi (Gennady) 2004\n",
      " 87.0 Nosenko, Gennadi (Gennady) 2004\n",
      " 327.0 Khromova, Tatyana 2001\n",
      " 341.0 Seliverstov, Yriy 2000\n",
      " 423.0 Nosenko, Gennadi (Gennady) 2004\n",
      " 424.0 Nosenko, Gennadi (Gennady) 1999\n",
      " 425.0 Khromova, Tatyana 1999\n",
      " 426.0 Nosenko, Gennadi (Gennady) 1999\n",
      " 427.0 Nosenko, Gennadi (Gennady) 2001\n",
      " 428.0 Nosenko, Gennadi (Gennady) 2004\n",
      " 429.0 Nosenko, Gennadi (Gennady) 2004\n",
      " 588.0 Ashkan, Farokhnia; Karimi, Neamat; Sara, Sheshangosht 2011\n",
      " 642.0 Tielidze, Levan 2014 2013 2014 2014 2011 2016\n",
      " 643.0 Tielidze, Levan 1987 1985 1986 1986 1986 1987\n",
      " 644.0 Tielidze, Levan 1960\n",
      " 662.0 Sarikaya, Mehmet Akif 2008 2006 2006 2004 2008 2009 2011\n",
      " 724.0 Tielidze, Levan 1999 2000 2000 2000 1999 2002\n"
     ]
    }
   ],
   "source": [
    "toprint = []\n",
    "for subid in shp.subm_id.unique():\n",
    "    s_loc = shp.loc[shp.subm_id == subid]\n",
    "    s = ''\n",
    "    for c in ['subm_id', 'analysts', 'src_date']:\n",
    "        toprint = s_loc[c].unique()\n",
    "        if c != 'src_date':\n",
    "            s += ' ' + (str(toprint[0]))\n",
    "        else:\n",
    "            for d in toprint:\n",
    "                s += ' ' + d[:4]\n",
    "    print(s)"
   ]
  },
  {
   "cell_type": "markdown",
   "id": "sophisticated-subject",
   "metadata": {},
   "source": [
    "### Apply selection criteria to create the RGI7 data subset"
   ]
  },
  {
   "cell_type": "code",
   "execution_count": 6,
   "id": "painful-dairy",
   "metadata": {},
   "outputs": [
    {
     "data": {
      "text/plain": [
       "2185"
      ]
     },
     "execution_count": 6,
     "metadata": {},
     "output_type": "execute_result"
    }
   ],
   "source": [
    "# try to get the data relevant for RGI07 and select by attributes - \n",
    "# for Caucasus we use 'subm_id' 642 by analyst 'Tielidze, Levan' which corresponds to the most recent (ca. 2013)\n",
    "# of three available data sets for Caucasus by this anayst (others are from around 1960 and appr. 1985 respectively)\n",
    "RGI_ss_caucasus = shp.loc[shp['subm_id'] == 724]\n",
    "len(RGI_ss_caucasus)"
   ]
  },
  {
   "cell_type": "code",
   "execution_count": 7,
   "id": "graduate-sunset",
   "metadata": {},
   "outputs": [
    {
     "data": {
      "text/plain": [
       "484"
      ]
     },
     "execution_count": 7,
     "metadata": {},
     "output_type": "execute_result"
    }
   ],
   "source": [
    "# try to get the data relevant for RGI07 and select by attributes - for Middle East: 'subm_id' 588 ()\n",
    "RGI_ss_middle_east = shp.loc[shp['subm_id'] == 588]\n",
    "len(RGI_ss_middle_east)"
   ]
  },
  {
   "cell_type": "code",
   "execution_count": 8,
   "id": "announced-thumb",
   "metadata": {},
   "outputs": [
    {
     "data": {
      "text/plain": [
       "line_type                                            glac_bound\n",
       "anlys_id                                               297051.0\n",
       "glac_id                                          G049337E33320N\n",
       "anlys_time                                  2014-07-05T00:00:00\n",
       "area                                                4651.577985\n",
       "db_area                                                0.004652\n",
       "width                                                       0.0\n",
       "length                                                      0.0\n",
       "primeclass                                                  0.0\n",
       "min_elev                                                    0.0\n",
       "mean_elev                                                   0.0\n",
       "max_elev                                                    0.0\n",
       "src_date                                    2011-09-01T00:00:00\n",
       "rec_status                                                 okay\n",
       "glac_name                                                  None\n",
       "wgms_id                                                    None\n",
       "local_id                               GR49.3363E33.3198N_Osh15\n",
       "glac_stat                                                exists\n",
       "subm_id                                                   588.0\n",
       "release_dt                                  2015-03-06T09:00:00\n",
       "proc_desc     Image band ratio method for clean ice; thermal...\n",
       "rc_id                                                      23.0\n",
       "geog_area                                                  Iran\n",
       "chief_affl                  K.N. Toosi University of Technology\n",
       "loc_unc_x                                                    50\n",
       "loc_unc_y                                                    50\n",
       "glob_unc_x                                                   80\n",
       "glob_unc_y                                                   80\n",
       "submitters                                       Karimi, Neamat\n",
       "analysts      Ashkan, Farokhnia; Karimi, Neamat; Sara, Shesh...\n",
       "CenLon                                                 49.33693\n",
       "CenLat                                                33.319925\n",
       "geometry      POLYGON Z ((49.336855 33.320444 0, 49.336874 3...\n",
       "Name: 1299, dtype: object"
      ]
     },
     "execution_count": 8,
     "metadata": {},
     "output_type": "execute_result"
    }
   ],
   "source": [
    "RGI_ss_middle_east.iloc[0]"
   ]
  },
  {
   "cell_type": "code",
   "execution_count": 9,
   "id": "massive-precipitation",
   "metadata": {},
   "outputs": [],
   "source": [
    "# combine the two geodataframes\n",
    "RGI_ss = RGI_ss_caucasus.append(RGI_ss_middle_east)"
   ]
  },
  {
   "cell_type": "markdown",
   "id": "aggressive-asian",
   "metadata": {},
   "source": [
    "### Should we add some 1985 glaciers for completeness?"
   ]
  },
  {
   "cell_type": "markdown",
   "id": "dietary-measurement",
   "metadata": {},
   "source": [
    "Hugonnet et al made a subjective choice to add some 1985 glaciers... should we as well?"
   ]
  },
  {
   "cell_type": "code",
   "execution_count": 10,
   "id": "mounted-globe",
   "metadata": {},
   "outputs": [],
   "source": [
    "# We decided not to for now\n",
    "# EG:\n",
    "# RGI_ss_caucasus_1985 = shp.loc[shp['subm_id'] == 644]\n",
    "# len(RGI_ss_caucasus_1985)"
   ]
  },
  {
   "cell_type": "markdown",
   "id": "impressive-limit",
   "metadata": {},
   "source": [
    "### Should we add missing glaciers (only a few in peripheral areas) based on RGI06?"
   ]
  },
  {
   "cell_type": "markdown",
   "id": "objective-welcome",
   "metadata": {},
   "source": [
    "This is done based on a manually created shapefile mask containing the few glacierized areas not considered in the above data. Note that many of the glaciers added by this procedure are not glaciers by common definition but rock glaciers or even areas without ice in reality. Apart from that, outlines partly suffer from incorrect spatial positioning etc...  "
   ]
  },
  {
   "cell_type": "code",
   "execution_count": 11,
   "id": "alert-indie",
   "metadata": {},
   "outputs": [],
   "source": [
    "# load a shapefile containing polygons which define areas uncovered by newly created RGI07 file\n",
    "UCA = gpd.read_file('tar://' + box_file + '/RGI07_R12_UCA/RGI07_R12_UCA.shp')"
   ]
  },
  {
   "cell_type": "code",
   "execution_count": 12,
   "id": "diverse-hebrew",
   "metadata": {},
   "outputs": [],
   "source": [
    "# extract glacier outlines for regions mentioned above from glims data\n",
    "df_UCA = gpd.overlay(shp, UCA, how='intersection')"
   ]
  },
  {
   "cell_type": "code",
   "execution_count": 13,
   "id": "minute-immunology",
   "metadata": {},
   "outputs": [],
   "source": [
    "# select submission ID of interesst (for RGI07 only subm_ID 662 available)\n",
    "df_UCA = df_UCA.loc[df_UCA['subm_id']== 724]"
   ]
  },
  {
   "cell_type": "code",
   "execution_count": 14,
   "id": "modular-edgar",
   "metadata": {},
   "outputs": [],
   "source": [
    "# append df_UCA to RGI_ss\n",
    "RGI_ss = RGI_ss.append(df_UCA, sort = False);"
   ]
  },
  {
   "cell_type": "markdown",
   "id": "worth-bleeding",
   "metadata": {},
   "source": [
    "## Write out and tar "
   ]
  },
  {
   "cell_type": "code",
   "execution_count": 15,
   "id": "portuguese-malta",
   "metadata": {},
   "outputs": [
    {
     "name": "stdout",
     "output_type": "stream",
     "text": [
      "Writing...\n",
      "Taring...\n",
      "RGI12/\n",
      "RGI12/RGI12.cpg\n",
      "RGI12/RGI12.dbf\n",
      "RGI12/RGI12.prj\n",
      "RGI12/RGI12.shp\n",
      "RGI12/RGI12.shx\n",
      "CompletedProcess(args=['tar', '-zcvf', '../../rgi7_data/l3_rgi7a_tar/RGI12.tar.gz', '-C', '../../rgi7_data/l3_rgi7a', 'RGI12'], returncode=0)\n"
     ]
    }
   ],
   "source": [
    "dd = mkdir(f'{output_dir}/RGI{reg:02d}/', reset=True)\n",
    "\n",
    "print('Writing...')\n",
    "RGI_ss.to_file(dd + f'RGI{reg:02d}.shp')\n",
    "\n",
    "print('Taring...')\n",
    "print(subprocess.run(['tar', '-zcvf', f'{output_dir_tar}/RGI{reg:02d}.tar.gz', '-C', output_dir, f'RGI{reg:02d}']))"
   ]
  },
  {
   "cell_type": "markdown",
   "id": "engaged-rescue",
   "metadata": {},
   "source": [
    "## New RGI-file created - Check result!"
   ]
  },
  {
   "cell_type": "markdown",
   "id": "returning-paintball",
   "metadata": {},
   "source": [
    "### load reference data (here RGI6) to enable comparison"
   ]
  },
  {
   "cell_type": "code",
   "execution_count": 16,
   "id": "animal-thanks",
   "metadata": {},
   "outputs": [],
   "source": [
    "# Just to know the name of the file to open from zip\n",
    "import zipfile\n",
    "with zipfile.ZipFile(rgi6_reg_file, \"r\") as z:\n",
    "    for f in z.filelist:\n",
    "        if '.shp' in f.filename:\n",
    "            fname = f.filename\n",
    "\n",
    "# load reference data\n",
    "ref_odf = gpd.read_file('zip://' + rgi6_reg_file + '/' + fname)"
   ]
  },
  {
   "cell_type": "markdown",
   "id": "outdoor-greece",
   "metadata": {},
   "source": [
    "## Compare new RGI-file and reference data set "
   ]
  },
  {
   "cell_type": "markdown",
   "id": "solar-support",
   "metadata": {},
   "source": [
    "### Number of elements (differences do not necessarily depict major problems)"
   ]
  },
  {
   "cell_type": "code",
   "execution_count": 17,
   "id": "primary-shirt",
   "metadata": {},
   "outputs": [
    {
     "name": "stdout",
     "output_type": "stream",
     "text": [
      "Number of glaciers in new RGI subset: 2669\n",
      "Number of glaciers in reference data: 1888\n",
      "Difference: 781\n"
     ]
    }
   ],
   "source": [
    "print('Number of glaciers in new RGI subset:', len(RGI_ss))\n",
    "print('Number of glaciers in reference data:', len(ref_odf))\n",
    "print('Difference:', len(RGI_ss)-len(ref_odf))"
   ]
  },
  {
   "cell_type": "markdown",
   "id": "noted-camel",
   "metadata": {},
   "source": [
    "### How many nominal glaciers were there in RGI06-R12?"
   ]
  },
  {
   "cell_type": "code",
   "execution_count": 18,
   "id": "forward-palestinian",
   "metadata": {},
   "outputs": [
    {
     "data": {
      "text/plain": [
       "339"
      ]
     },
     "execution_count": 18,
     "metadata": {},
     "output_type": "execute_result"
    }
   ],
   "source": [
    "len(ref_odf.loc[ref_odf.Status == 2])"
   ]
  },
  {
   "cell_type": "markdown",
   "id": "unexpected-regression",
   "metadata": {},
   "source": [
    "### Total area"
   ]
  },
  {
   "cell_type": "code",
   "execution_count": 19,
   "id": "secondary-riding",
   "metadata": {},
   "outputs": [],
   "source": [
    "# add an area field to RGI_ss and reference data\n",
    "RGI_ss['area'] = RGI_ss.to_crs({'proj':'cea'}).area\n",
    "ref_odf['area'] = ref_odf.to_crs({'proj':'cea'}).area"
   ]
  },
  {
   "cell_type": "code",
   "execution_count": 20,
   "id": "digital-telescope",
   "metadata": {},
   "outputs": [
    {
     "name": "stdout",
     "output_type": "stream",
     "text": [
      "Area RGI [km²]: 1421.5735921911878\n",
      "Area Ref [km²]: 1306.999710204219\n",
      "Area difference [km²]: 114.5738819869689\n"
     ]
    }
   ],
   "source": [
    "# print and compare area values\n",
    "Area_RGI = RGI_ss['area'].sum() * 1e-6\n",
    "print('Area RGI [km²]:', Area_RGI)\n",
    "Area_ref = ref_odf['area'].sum() * 1e-6\n",
    "print('Area Ref [km²]:', Area_ref)\n",
    "d = (Area_RGI - Area_ref)\n",
    "print('Area difference [km²]:', d)"
   ]
  },
  {
   "cell_type": "markdown",
   "id": "intensive-rally",
   "metadata": {},
   "source": [
    "### Here starts the comparison `RGI7a` with the original `Levan` dataset:  \n",
    "\n",
    "The data is downloaded comes from https://zenodo.org/record/5116329#.YXqvaL9Byit\n",
    "\n",
    "Download: https://zenodo.org/record/5116329/files/CAUCASUS_GLACIERS_2000_2020_Tielidze%20et%20al.%202021.zip?download=1"
   ]
  },
  {
   "cell_type": "code",
   "execution_count": 21,
   "id": "696a6910-566b-4371-9f17-9f4b73257f41",
   "metadata": {},
   "outputs": [],
   "source": [
    "import urllib\n",
    "import urllib.request\n",
    "from urllib.request import urlopen\n",
    "\n",
    "# download\n",
    "lev_url = \"https://zenodo.org/record/5116329/files/CAUCASUS_GLACIERS_2000_2020_Tielidze%20et%20al.%202021.zip?download=1\"\n",
    "urllib.request.urlretrieve(lev_url, filename = os.path.join(data_dir + '/levan_2000.zip'))\n",
    "\n",
    "# unzip\n",
    "import zipfile\n",
    "with zipfile.ZipFile(data_dir + '/levan_2000.zip', 'r') as zip_ref:\n",
    "    zip_ref.extractall(data_dir + '/levan_2000')\n",
    "\n",
    "# Read original data:\n",
    "data_dir_lev = os.path.join(data_dir + '/levan_2000/CAUCASUS_GLACIERS_2000_2020_Tielidze et al. 2021/CAU_GLAC_2000/')\n",
    "\n",
    "lev_RU = gpd.read_file(os.path.join(data_dir_lev + 'CAU_GLAC_RUS_2000.shp'))\n",
    "lev_AZ = gpd.read_file(os.path.join(data_dir_lev + 'CAU_GLAC_AZER_2000.shp'))\n",
    "lev_GE = gpd.read_file(os.path.join(data_dir_lev + 'CAU_GLAC_GEO_2000.shp'))\n",
    "\n",
    "lev = pd.concat([lev_RU, pd.concat([lev_AZ, lev_GE])])"
   ]
  },
  {
   "cell_type": "markdown",
   "id": "7c1290ff-bee3-49b7-a10d-832e8f6a70ae",
   "metadata": {},
   "source": []
  },
  {
   "cell_type": "code",
   "execution_count": 22,
   "id": "43884f6c-83f7-43c0-be57-a893391f78d9",
   "metadata": {},
   "outputs": [
    {
     "name": "stdout",
     "output_type": "stream",
     "text": [
      "Number of glaciers in new RGI subset: 2669\n",
      "Number of glaciers in reference data (lev): 2186\n",
      "Difference: 483\n"
     ]
    }
   ],
   "source": [
    "print('Number of glaciers in new RGI subset:', len(RGI_ss))\n",
    "print('Number of glaciers in reference data (lev):', len(lev))\n",
    "print('Difference:', len(RGI_ss)-len(lev))"
   ]
  },
  {
   "cell_type": "code",
   "execution_count": 23,
   "id": "050d97e9-3591-4978-aab6-eba86bb2ea4e",
   "metadata": {},
   "outputs": [],
   "source": [
    "# add an area field to RGI_ss and reference data\n",
    "RGI_ss['area'] = RGI_ss.to_crs({'proj':'cea'}).area\n",
    "lev['area'] = lev.to_crs({'proj':'cea'}).area"
   ]
  },
  {
   "cell_type": "code",
   "execution_count": 24,
   "id": "ddd329fe-92be-43d5-9cc7-e177931de7dc",
   "metadata": {},
   "outputs": [
    {
     "name": "stdout",
     "output_type": "stream",
     "text": [
      "Area RGI [km²]: 1421.5735921911878\n",
      "Area Ref (lev) [km²]: 1381.463208157755\n",
      "Area difference [km²]: 40.110384033432865\n"
     ]
    }
   ],
   "source": [
    "# print and compare area values\n",
    "Area_RGI = RGI_ss['area'].sum() * 1e-6\n",
    "print('Area RGI [km²]:', Area_RGI)\n",
    "Area_lev = lev['area'].sum() * 1e-6\n",
    "print('Area Ref (lev) [km²]:', Area_lev)\n",
    "d = (Area_RGI - Area_lev)\n",
    "print('Area difference [km²]:', d)"
   ]
  },
  {
   "cell_type": "markdown",
   "id": "fe9694e2-196c-4b82-86cb-62e01176fbc9",
   "metadata": {},
   "source": [
    "### Comparison Levan - GRI7a:\n",
    "\n",
    "In Levan dataset we have_\n",
    "\n",
    "* 483 less glaciers \n",
    "\n",
    "* 40km² less"
   ]
  },
  {
   "cell_type": "markdown",
   "id": "1e035a34-e98b-45b9-8889-12f475a952a1",
   "metadata": {},
   "source": [
    "Let's find them"
   ]
  },
  {
   "cell_type": "code",
   "execution_count": 95,
   "id": "94f52036-0449-484b-8a2a-64a1c2232a15",
   "metadata": {},
   "outputs": [
    {
     "data": {
      "image/png": "[encoded data removed]",
      "text/plain": [
       "<Figure size 432x288 with 1 Axes>"
      ]
     },
     "metadata": {
      "needs_background": "light"
     },
     "output_type": "display_data"
    }
   ],
   "source": [
    "sorted_lev = lev[\"area\"].sort_values(ascending=False)\n",
    "sorted_RGI_ss = RGI_ss[\"area\"].sort_values(ascending=False)\n",
    "\n",
    "#sorted_lev()\n",
    "#sorted_RGI_ss\n",
    "\n",
    "x = range(len(sorted_RGI_ss))\n",
    "y = sorted_RGI_ss * 1e-6\n",
    "x1 = range(len(sorted_lev))\n",
    "y1 = sorted_lev * 1e-6\n",
    "\n",
    "plt.plot(x,y,marker=\"\", label=\"RGI7a\")\n",
    "plt.xlabel(\"glacier count ordered by area\")\n",
    "plt.ylabel(\"Area (km²)\")\n",
    "plt.yscale('log')\n",
    "plt.title(\"Figure with default X labels\")\n",
    "plt.plot(x1,y1,marker=\"\", label=\"Levan\")\n",
    "plt.legend(loc=\"upper right\")\n",
    "\n",
    "plt.show()\n",
    "#plt.plot(x=range(1, len(sorted_lev)), y=sorted_lev)#, sorted_RGI_ss)"
   ]
  },
  {
   "cell_type": "markdown",
   "id": "eec0d71c-226c-40d8-88c6-62bfa818a2cb",
   "metadata": {},
   "source": [
    "It seems that the small glaciers are not in the "
   ]
  },
  {
   "cell_type": "code",
   "execution_count": 93,
   "id": "1fce3fbc-7118-4d85-b342-b2ed27204636",
   "metadata": {},
   "outputs": [
    {
     "name": "stdout",
     "output_type": "stream",
     "text": [
      "52      152769.496242\n",
      "1212    152735.423567\n",
      "177     152356.952490\n",
      "110     151984.382663\n",
      "21      151815.201242\n",
      "602     151450.918939\n",
      "557     151421.221016\n",
      "489     151230.473662\n",
      "481     150777.205630\n",
      "538     150707.711575\n",
      "Name: area, dtype: float64\n",
      "1596    3.208895\n",
      "1442    2.597884\n",
      "1324    2.491136\n",
      "1644    0.801394\n",
      "1632    0.250194\n",
      "1472    0.099646\n",
      "1565    0.050165\n",
      "1394    0.029892\n",
      "1389    0.026114\n",
      "1353    0.010445\n",
      "Name: area, dtype: float64\n"
     ]
    }
   ],
   "source": [
    "print(sorted_lev[1000:1010])\n",
    "print(sorted_RGI_ss[-10:]) # --> makes no sense, we cannot have 3m² glaciers!!!"
   ]
  }
 ],
 "metadata": {
  "kernelspec": {
   "display_name": "Python 3 (ipykernel)",
   "language": "python",
   "name": "python3"
  },
  "language_info": {
   "codemirror_mode": {
    "name": "ipython",
    "version": 3
   },
   "file_extension": ".py",
   "mimetype": "text/x-python",
   "name": "python",
   "nbconvert_exporter": "python",
   "pygments_lexer": "ipython3",
   "version": "3.8.12"
  }
 },
 "nbformat": 4,
 "nbformat_minor": 5
}
