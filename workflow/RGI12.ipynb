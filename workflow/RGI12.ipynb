{
 "cells": [
  {
   "cell_type": "markdown",
   "id": "coral-better",
   "metadata": {},
   "source": [
    "# RGI-07: Region 12 (Caucasus and Middle East)\n",
    "\n",
    "F. Maussion & S. Galos, June 2021"
   ]
  },
  {
   "cell_type": "code",
   "execution_count": 1,
   "id": "spatial-concert",
   "metadata": {},
   "outputs": [],
   "source": [
    "import geopandas as gpd\n",
    "import pandas as pd\n",
    "import matplotlib.pyplot as plt\n",
    "import subprocess\n",
    "import os\n",
    "from utils import mkdir"
   ]
  },
  {
   "cell_type": "markdown",
   "id": "checked-oxide",
   "metadata": {},
   "source": [
    "## Files and storage paths"
   ]
  },
  {
   "cell_type": "code",
   "execution_count": 2,
   "id": "working-anger",
   "metadata": {},
   "outputs": [],
   "source": [
    "# Region of interest \n",
    "reg = 12\n",
    "\n",
    "# go down from rgi7_scripts/workflow\n",
    "data_dir = '../../rgi7_data/'\n",
    "\n",
    "# Level 2 GLIMS files # we are comparing it later to GRI7a files\n",
    "l2_dir = os.path.join(data_dir, 'l2_sel_reg_tars')\n",
    "\n",
    "# Output directories\n",
    "output_dir = mkdir(os.path.join(data_dir, 'l3_rgi7a'))\n",
    "output_dir_tar = mkdir(os.path.join(data_dir, 'l3_rgi7a_tar'))\n",
    "\n",
    "# RGI v6 file for comparison later \n",
    "# rgi6_reg_file = os.path.join(data_dir, 'l0_RGIv6', '12_rgi60_CaucasusMiddleEast.zip')"
   ]
  },
  {
   "cell_type": "code",
   "execution_count": 3,
   "id": "antique-gather",
   "metadata": {},
   "outputs": [],
   "source": [
    "# Specific to this region: boxes where data has to be selected differently\n",
    "support_dir = os.path.join(data_dir, 'l0_support_data')\n",
    "box_file = os.path.join(support_dir, 'RGI07_R12_UCA.tar.gz')"
   ]
  },
  {
   "cell_type": "markdown",
   "id": "hundred-candy",
   "metadata": {},
   "source": [
    "### Load the input data"
   ]
  },
  {
   "cell_type": "code",
   "execution_count": 4,
   "id": "conservative-formula",
   "metadata": {},
   "outputs": [],
   "source": [
    "# Read L2 files\n",
    "shp = gpd.read_file('tar://' + l2_dir + f'/RGI{reg:02d}.tar.gz/RGI{reg:02d}/RGI{reg:02d}.shp')"
   ]
  },
  {
   "cell_type": "markdown",
   "id": "frozen-tournament",
   "metadata": {},
   "source": [
    "### List of submissions "
   ]
  },
  {
   "cell_type": "code",
   "execution_count": 5,
   "id": "annual-projector",
   "metadata": {},
   "outputs": [
    {
     "name": "stdout",
     "output_type": "stream",
     "text": [
      " 76.0 Nosenko, Gennadi (Gennady) 2004\n",
      " 79.0 Nosenko, Gennadi (Gennady) 2004\n",
      " 81.0 Nosenko, Gennadi (Gennady) 2004\n",
      " 83.0 Nosenko, Gennadi (Gennady) 2004\n",
      " 87.0 Nosenko, Gennadi (Gennady) 2004\n",
      " 327.0 Khromova, Tatyana 2001\n",
      " 341.0 Seliverstov, Yriy 2000\n",
      " 423.0 Nosenko, Gennadi (Gennady) 2004\n",
      " 424.0 Nosenko, Gennadi (Gennady) 1999\n",
      " 425.0 Khromova, Tatyana 1999\n",
      " 426.0 Nosenko, Gennadi (Gennady) 1999\n",
      " 427.0 Nosenko, Gennadi (Gennady) 2001\n",
      " 428.0 Nosenko, Gennadi (Gennady) 2004\n",
      " 429.0 Nosenko, Gennadi (Gennady) 2004\n",
      " 588.0 Ashkan, Farokhnia; Karimi, Neamat; Sara, Sheshangosht 2011\n",
      " 642.0 Tielidze, Levan 2014 2013 2014 2014 2011 2016\n",
      " 643.0 Tielidze, Levan 1987 1985 1986 1986 1986 1987\n",
      " 644.0 Tielidze, Levan 1960\n",
      " 662.0 Sarikaya, Mehmet Akif 2008 2006 2006 2004 2008 2009 2011\n",
      " 724.0 Tielidze, Levan 1999 2000 2000 2000 1999 2002\n"
     ]
    }
   ],
   "source": [
    "toprint = []\n",
    "for subid in shp.subm_id.unique():\n",
    "    s_loc = shp.loc[shp.subm_id == subid]\n",
    "    s = ''\n",
    "    for c in ['subm_id', 'analysts', 'src_date']:\n",
    "        toprint = s_loc[c].unique()\n",
    "        if c != 'src_date':\n",
    "            s += ' ' + (str(toprint[0]))\n",
    "        else:\n",
    "            for d in toprint:\n",
    "                s += ' ' + d[:4]\n",
    "    print(s)"
   ]
  },
  {
   "cell_type": "markdown",
   "id": "sophisticated-subject",
   "metadata": {},
   "source": [
    "### Apply selection criteria to create the RGI7 data subset"
   ]
  },
  {
   "cell_type": "code",
   "execution_count": 6,
   "id": "painful-dairy",
   "metadata": {},
   "outputs": [
    {
     "data": {
      "text/plain": [
       "2021"
      ]
     },
     "execution_count": 6,
     "metadata": {},
     "output_type": "execute_result"
    }
   ],
   "source": [
    "# try to get the data relevant for RGI07 and select by attributes - \n",
    "# for Caucasus we use 'subm_id' 642 by analyst 'Tielidze, Levan' which corresponds to the most recent (ca. 2013)\n",
    "# of three available data sets for Caucasus by this anayst (others are from around 1960 and appr. 1985 respectively)\n",
    "RGI_ss_caucasus = shp.loc[shp['subm_id'] == 642]\n",
    "len(RGI_ss_caucasus)"
   ]
  },
  {
   "cell_type": "code",
   "execution_count": 7,
   "id": "graduate-sunset",
   "metadata": {},
   "outputs": [
    {
     "data": {
      "text/plain": [
       "484"
      ]
     },
     "execution_count": 7,
     "metadata": {},
     "output_type": "execute_result"
    }
   ],
   "source": [
    "# try to get the data relevant for RGI07 and select by attributes - for Middle East: 'subm_id' 588 ()\n",
    "RGI_ss_middle_east = shp.loc[shp['subm_id'] == 588]\n",
    "len(RGI_ss_middle_east)"
   ]
  },
  {
   "cell_type": "code",
   "execution_count": 8,
   "id": "announced-thumb",
   "metadata": {},
   "outputs": [
    {
     "data": {
      "text/plain": [
       "line_type                                            glac_bound\n",
       "anlys_id                                               297051.0\n",
       "glac_id                                          G049337E33320N\n",
       "anlys_time                                  2014-07-05T00:00:00\n",
       "area                                                4651.577985\n",
       "db_area                                                0.004652\n",
       "width                                                       0.0\n",
       "length                                                      0.0\n",
       "primeclass                                                  0.0\n",
       "min_elev                                                    0.0\n",
       "mean_elev                                                   0.0\n",
       "max_elev                                                    0.0\n",
       "src_date                                    2011-09-01T00:00:00\n",
       "rec_status                                                 okay\n",
       "glac_name                                                  None\n",
       "wgms_id                                                    None\n",
       "local_id                               GR49.3363E33.3198N_Osh15\n",
       "glac_stat                                                exists\n",
       "subm_id                                                   588.0\n",
       "release_dt                                  2015-03-06T09:00:00\n",
       "proc_desc     Image band ratio method for clean ice; thermal...\n",
       "rc_id                                                      23.0\n",
       "geog_area                                                  Iran\n",
       "chief_affl                  K.N. Toosi University of Technology\n",
       "loc_unc_x                                                    50\n",
       "loc_unc_y                                                    50\n",
       "glob_unc_x                                                   80\n",
       "glob_unc_y                                                   80\n",
       "submitters                                       Karimi, Neamat\n",
       "analysts      Ashkan, Farokhnia; Karimi, Neamat; Sara, Shesh...\n",
       "CenLon                                                 49.33693\n",
       "CenLat                                                33.319925\n",
       "geometry      POLYGON Z ((49.336855 33.320444 0, 49.336874 3...\n",
       "Name: 1299, dtype: object"
      ]
     },
     "execution_count": 8,
     "metadata": {},
     "output_type": "execute_result"
    }
   ],
   "source": [
    "RGI_ss_middle_east.iloc[0]"
   ]
  },
  {
   "cell_type": "code",
   "execution_count": 9,
   "id": "massive-precipitation",
   "metadata": {},
   "outputs": [],
   "source": [
    "# combine the two geodataframes\n",
    "RGI_ss = RGI_ss_caucasus.append(RGI_ss_middle_east)"
   ]
  },
  {
   "cell_type": "markdown",
   "id": "aggressive-asian",
   "metadata": {},
   "source": [
    "### Should we add some 1985 glaciers for completeness?"
   ]
  },
  {
   "cell_type": "markdown",
   "id": "dietary-measurement",
   "metadata": {},
   "source": [
    "Hugonnet et al made a subjective choice to add some 1985 glaciers... should we as well?"
   ]
  },
  {
   "cell_type": "code",
   "execution_count": 10,
   "id": "mounted-globe",
   "metadata": {},
   "outputs": [],
   "source": [
    "# We decided not to for now\n",
    "# EG:\n",
    "# RGI_ss_caucasus_1985 = shp.loc[shp['subm_id'] == 644]\n",
    "# len(RGI_ss_caucasus_1985)"
   ]
  },
  {
   "cell_type": "markdown",
   "id": "impressive-limit",
   "metadata": {},
   "source": [
    "### Should we add missing glaciers (only a few in peripheral areas) based on RGI06?"
   ]
  },
  {
   "cell_type": "markdown",
   "id": "objective-welcome",
   "metadata": {},
   "source": [
    "This is done based on a manually created shapefile mask containing the few glacierized areas not considered in the above data. Note that many of the glaciers added by this procedure are not glaciers by common definition but rock glaciers or even areas without ice in reality. Apart from that, outlines partly suffer from incorrect spatial positioning etc...  "
   ]
  },
  {
   "cell_type": "code",
   "execution_count": 11,
   "id": "alert-indie",
   "metadata": {},
   "outputs": [],
   "source": [
    "# load a shapefile containing polygons which define areas uncovered by newly created RGI07 file\n",
    "UCA = gpd.read_file('tar://' + box_file + '/RGI07_R12_UCA/RGI07_R12_UCA.shp')"
   ]
  },
  {
   "cell_type": "code",
   "execution_count": 12,
   "id": "diverse-hebrew",
   "metadata": {},
   "outputs": [],
   "source": [
    "# extract glacier outlines for regions mentioned above from glims data\n",
    "df_UCA = gpd.overlay(shp, UCA, how='intersection')"
   ]
  },
  {
   "cell_type": "code",
   "execution_count": 13,
   "id": "minute-immunology",
   "metadata": {},
   "outputs": [],
   "source": [
    "# select submission ID of interesst (for RGI07 only subm_ID 662 available)\n",
    "df_UCA = df_UCA.loc[df_UCA['subm_id']== 662]"
   ]
  },
  {
   "cell_type": "code",
   "execution_count": 14,
   "id": "modular-edgar",
   "metadata": {},
   "outputs": [],
   "source": [
    "# append df_UCA to RGI_ss\n",
    "RGI_ss = RGI_ss.append(df_UCA, sort = False);"
   ]
  },
  {
   "cell_type": "markdown",
   "id": "worth-bleeding",
   "metadata": {},
   "source": [
    "## Write out and tar "
   ]
  },
  {
   "cell_type": "code",
   "execution_count": 15,
   "id": "portuguese-malta",
   "metadata": {},
   "outputs": [
    {
     "ename": "OSError",
     "evalue": "[Errno 39] Directory not empty: '../../rgi7_data/l3_rgi7a/RGI12/'",
     "output_type": "error",
     "traceback": [
      "\u001b[0;31m---------------------------------------------------------------------------\u001b[0m",
      "\u001b[0;31mOSError\u001b[0m                                   Traceback (most recent call last)",
      "\u001b[0;32m/tmp/ipykernel_160777/651191772.py\u001b[0m in \u001b[0;36m<module>\u001b[0;34m\u001b[0m\n\u001b[0;32m----> 1\u001b[0;31m \u001b[0mdd\u001b[0m \u001b[0;34m=\u001b[0m \u001b[0mmkdir\u001b[0m\u001b[0;34m(\u001b[0m\u001b[0;34mf'{output_dir}/RGI{reg:02d}/'\u001b[0m\u001b[0;34m,\u001b[0m \u001b[0mreset\u001b[0m\u001b[0;34m=\u001b[0m\u001b[0;32mTrue\u001b[0m\u001b[0;34m)\u001b[0m\u001b[0;34m\u001b[0m\u001b[0;34m\u001b[0m\u001b[0m\n\u001b[0m\u001b[1;32m      2\u001b[0m \u001b[0;34m\u001b[0m\u001b[0m\n\u001b[1;32m      3\u001b[0m \u001b[0mprint\u001b[0m\u001b[0;34m(\u001b[0m\u001b[0;34m'Writing...'\u001b[0m\u001b[0;34m)\u001b[0m\u001b[0;34m\u001b[0m\u001b[0;34m\u001b[0m\u001b[0m\n\u001b[1;32m      4\u001b[0m \u001b[0mRGI_ss\u001b[0m\u001b[0;34m.\u001b[0m\u001b[0mto_file\u001b[0m\u001b[0;34m(\u001b[0m\u001b[0mdd\u001b[0m \u001b[0;34m+\u001b[0m \u001b[0;34mf'RGI{reg:02d}.shp'\u001b[0m\u001b[0;34m)\u001b[0m\u001b[0;34m\u001b[0m\u001b[0;34m\u001b[0m\u001b[0m\n\u001b[1;32m      5\u001b[0m \u001b[0;34m\u001b[0m\u001b[0m\n",
      "\u001b[0;32m~/repositories/rgi7_scripts/workflow/utils.py\u001b[0m in \u001b[0;36mmkdir\u001b[0;34m(path, reset)\u001b[0m\n\u001b[1;32m     16\u001b[0m \u001b[0;34m\u001b[0m\u001b[0m\n\u001b[1;32m     17\u001b[0m     \u001b[0;32mif\u001b[0m \u001b[0mreset\u001b[0m \u001b[0;32mand\u001b[0m \u001b[0mos\u001b[0m\u001b[0;34m.\u001b[0m\u001b[0mpath\u001b[0m\u001b[0;34m.\u001b[0m\u001b[0mexists\u001b[0m\u001b[0;34m(\u001b[0m\u001b[0mpath\u001b[0m\u001b[0;34m)\u001b[0m\u001b[0;34m:\u001b[0m\u001b[0;34m\u001b[0m\u001b[0;34m\u001b[0m\u001b[0m\n\u001b[0;32m---> 18\u001b[0;31m         \u001b[0mshutil\u001b[0m\u001b[0;34m.\u001b[0m\u001b[0mrmtree\u001b[0m\u001b[0;34m(\u001b[0m\u001b[0mpath\u001b[0m\u001b[0;34m)\u001b[0m\u001b[0;34m\u001b[0m\u001b[0;34m\u001b[0m\u001b[0m\n\u001b[0m\u001b[1;32m     19\u001b[0m     \u001b[0;32mtry\u001b[0m\u001b[0;34m:\u001b[0m\u001b[0;34m\u001b[0m\u001b[0;34m\u001b[0m\u001b[0m\n\u001b[1;32m     20\u001b[0m         \u001b[0mos\u001b[0m\u001b[0;34m.\u001b[0m\u001b[0mmakedirs\u001b[0m\u001b[0;34m(\u001b[0m\u001b[0mpath\u001b[0m\u001b[0;34m)\u001b[0m\u001b[0;34m\u001b[0m\u001b[0;34m\u001b[0m\u001b[0m\n",
      "\u001b[0;32m~/anaconda3/envs/geo_env/lib/python3.8/shutil.py\u001b[0m in \u001b[0;36mrmtree\u001b[0;34m(path, ignore_errors, onerror)\u001b[0m\n\u001b[1;32m    720\u001b[0m                     \u001b[0mos\u001b[0m\u001b[0;34m.\u001b[0m\u001b[0mrmdir\u001b[0m\u001b[0;34m(\u001b[0m\u001b[0mpath\u001b[0m\u001b[0;34m)\u001b[0m\u001b[0;34m\u001b[0m\u001b[0;34m\u001b[0m\u001b[0m\n\u001b[1;32m    721\u001b[0m                 \u001b[0;32mexcept\u001b[0m \u001b[0mOSError\u001b[0m\u001b[0;34m:\u001b[0m\u001b[0;34m\u001b[0m\u001b[0;34m\u001b[0m\u001b[0m\n\u001b[0;32m--> 722\u001b[0;31m                     \u001b[0monerror\u001b[0m\u001b[0;34m(\u001b[0m\u001b[0mos\u001b[0m\u001b[0;34m.\u001b[0m\u001b[0mrmdir\u001b[0m\u001b[0;34m,\u001b[0m \u001b[0mpath\u001b[0m\u001b[0;34m,\u001b[0m \u001b[0msys\u001b[0m\u001b[0;34m.\u001b[0m\u001b[0mexc_info\u001b[0m\u001b[0;34m(\u001b[0m\u001b[0;34m)\u001b[0m\u001b[0;34m)\u001b[0m\u001b[0;34m\u001b[0m\u001b[0;34m\u001b[0m\u001b[0m\n\u001b[0m\u001b[1;32m    723\u001b[0m             \u001b[0;32melse\u001b[0m\u001b[0;34m:\u001b[0m\u001b[0;34m\u001b[0m\u001b[0;34m\u001b[0m\u001b[0m\n\u001b[1;32m    724\u001b[0m                 \u001b[0;32mtry\u001b[0m\u001b[0;34m:\u001b[0m\u001b[0;34m\u001b[0m\u001b[0;34m\u001b[0m\u001b[0m\n",
      "\u001b[0;32m~/anaconda3/envs/geo_env/lib/python3.8/shutil.py\u001b[0m in \u001b[0;36mrmtree\u001b[0;34m(path, ignore_errors, onerror)\u001b[0m\n\u001b[1;32m    718\u001b[0m                 \u001b[0m_rmtree_safe_fd\u001b[0m\u001b[0;34m(\u001b[0m\u001b[0mfd\u001b[0m\u001b[0;34m,\u001b[0m \u001b[0mpath\u001b[0m\u001b[0;34m,\u001b[0m \u001b[0monerror\u001b[0m\u001b[0;34m)\u001b[0m\u001b[0;34m\u001b[0m\u001b[0;34m\u001b[0m\u001b[0m\n\u001b[1;32m    719\u001b[0m                 \u001b[0;32mtry\u001b[0m\u001b[0;34m:\u001b[0m\u001b[0;34m\u001b[0m\u001b[0;34m\u001b[0m\u001b[0m\n\u001b[0;32m--> 720\u001b[0;31m                     \u001b[0mos\u001b[0m\u001b[0;34m.\u001b[0m\u001b[0mrmdir\u001b[0m\u001b[0;34m(\u001b[0m\u001b[0mpath\u001b[0m\u001b[0;34m)\u001b[0m\u001b[0;34m\u001b[0m\u001b[0;34m\u001b[0m\u001b[0m\n\u001b[0m\u001b[1;32m    721\u001b[0m                 \u001b[0;32mexcept\u001b[0m \u001b[0mOSError\u001b[0m\u001b[0;34m:\u001b[0m\u001b[0;34m\u001b[0m\u001b[0;34m\u001b[0m\u001b[0m\n\u001b[1;32m    722\u001b[0m                     \u001b[0monerror\u001b[0m\u001b[0;34m(\u001b[0m\u001b[0mos\u001b[0m\u001b[0;34m.\u001b[0m\u001b[0mrmdir\u001b[0m\u001b[0;34m,\u001b[0m \u001b[0mpath\u001b[0m\u001b[0;34m,\u001b[0m \u001b[0msys\u001b[0m\u001b[0;34m.\u001b[0m\u001b[0mexc_info\u001b[0m\u001b[0;34m(\u001b[0m\u001b[0;34m)\u001b[0m\u001b[0;34m)\u001b[0m\u001b[0;34m\u001b[0m\u001b[0;34m\u001b[0m\u001b[0m\n",
      "\u001b[0;31mOSError\u001b[0m: [Errno 39] Directory not empty: '../../rgi7_data/l3_rgi7a/RGI12/'"
     ]
    }
   ],
   "source": [
    "dd = mkdir(f'{output_dir}/RGI{reg:02d}/', reset=True)\n",
    "\n",
    "print('Writing...')\n",
    "RGI_ss.to_file(dd + f'RGI{reg:02d}.shp')\n",
    "\n",
    "print('Taring...')\n",
    "print(subprocess.run(['tar', '-zcvf', f'{output_dir_tar}/RGI{reg:02d}.tar.gz', '-C', output_dir, f'RGI{reg:02d}']))"
   ]
  },
  {
   "cell_type": "markdown",
   "id": "engaged-rescue",
   "metadata": {},
   "source": [
    "## New RGI-file created - Check result!"
   ]
  },
  {
   "cell_type": "markdown",
   "id": "returning-paintball",
   "metadata": {},
   "source": [
    "### load reference data (here RGI6) to enable comparison"
   ]
  },
  {
   "cell_type": "code",
   "execution_count": 23,
   "id": "animal-thanks",
   "metadata": {},
   "outputs": [
    {
     "data": {
      "text/plain": [
       "geopandas.geodataframe.GeoDataFrame"
      ]
     },
     "execution_count": 23,
     "metadata": {},
     "output_type": "execute_result"
    }
   ],
   "source": [
    "# Just to know the name of the file to open from zip\n",
    "#import zipfile\n",
    "#with zipfile.ZipFile(rgi6_reg_file, \"r\") as z:\n",
    "#    for f in z.filelist:\n",
    "#        if '.shp' in f.filename:\n",
    "#            fname = f.filename\n",
    "\n",
    "# load reference data \n",
    "#ref_odf = gpd.read_file('zip://' + rgi6_reg_file + '/' + fname)\n",
    "\n",
    "# now the reference data to be compared with is GLIMS (l2 files)\n",
    "\n",
    "ref_odf = gpd.read_file(l2_dir + '/' + 'RGI12')\n",
    "type(ref_odf)"
   ]
  },
  {
   "cell_type": "markdown",
   "id": "outdoor-greece",
   "metadata": {},
   "source": [
    "## Compare new RGI-file and reference data set "
   ]
  },
  {
   "cell_type": "markdown",
   "id": "solar-support",
   "metadata": {},
   "source": [
    "### Number of elements (differences do not necessarily depict major problems)"
   ]
  },
  {
   "cell_type": "code",
   "execution_count": null,
   "id": "primary-shirt",
   "metadata": {},
   "outputs": [],
   "source": [
    "print('Number of glaciers in new RGI subset:', len(RGI_ss))\n",
    "print('Number of glaciers in reference data:', len(ref_odf))\n",
    "print('Difference:', len(RGI_ss)-len(ref_odf))"
   ]
  },
  {
   "cell_type": "markdown",
   "id": "noted-camel",
   "metadata": {},
   "source": [
    "### How many nominal glaciers were there in RGI06-R12?"
   ]
  },
  {
   "cell_type": "code",
   "execution_count": null,
   "id": "forward-palestinian",
   "metadata": {},
   "outputs": [],
   "source": [
    "#len(ref_odf.loc[ref_odf.Status == 2])"
   ]
  },
  {
   "cell_type": "markdown",
   "id": "unexpected-regression",
   "metadata": {},
   "source": [
    "### Total area"
   ]
  },
  {
   "cell_type": "code",
   "execution_count": null,
   "id": "secondary-riding",
   "metadata": {},
   "outputs": [],
   "source": [
    "# add an area field to RGI_ss and reference data\n",
    "RGI_ss['area'] = RGI_ss.to_crs({'proj':'cea'}).area\n",
    "ref_odf['area'] = ref_odf.to_crs({'proj':'cea'}).area"
   ]
  },
  {
   "cell_type": "code",
   "execution_count": null,
   "id": "digital-telescope",
   "metadata": {},
   "outputs": [],
   "source": [
    "# print and compare area values\n",
    "Area_RGI = RGI_ss['area'].sum() * 1e-6\n",
    "print('Area RGI [km²]:', Area_RGI)\n",
    "Area_ref = ref_odf['area'].sum() * 1e-6\n",
    "print('Area Ref [km²]:', Area_ref)\n",
    "d = (Area_RGI - Area_ref)\n",
    "print('Area difference [km²]:', d)"
   ]
  },
  {
   "cell_type": "markdown",
   "id": "intensive-rally",
   "metadata": {},
   "source": [
    "# End of revised noteboook"
   ]
  }
 ],
 "metadata": {
  "kernelspec": {
   "display_name": "Python 3 (ipykernel)",
   "language": "python",
   "name": "python3"
  },
  "language_info": {
   "codemirror_mode": {
    "name": "ipython",
    "version": 3
   },
   "file_extension": ".py",
   "mimetype": "text/x-python",
   "name": "python",
   "nbconvert_exporter": "python",
   "pygments_lexer": "ipython3",
   "version": "3.8.12"
  }
 },
 "nbformat": 4,
 "nbformat_minor": 5
}
