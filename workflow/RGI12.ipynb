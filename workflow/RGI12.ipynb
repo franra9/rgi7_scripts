{
 "cells": [
  {
   "cell_type": "markdown",
   "id": "coral-better",
   "metadata": {},
   "source": [
    "# RGI-07: Region 12 (Caucasus and Middle East)\n",
    "\n",
    "F. Maussion & S. Galos, June 2021"
   ]
  },
  {
   "cell_type": "code",
   "execution_count": 1,
   "id": "spatial-concert",
   "metadata": {},
   "outputs": [],
   "source": [
    "import geopandas as gpd\n",
    "import pandas as pd\n",
    "import matplotlib.pyplot as plt\n",
    "import subprocess\n",
    "import os\n",
    "import numpy as np\n",
    "from utils import mkdir"
   ]
  },
  {
   "cell_type": "markdown",
   "id": "checked-oxide",
   "metadata": {},
   "source": [
    "## Files and storage paths"
   ]
  },
  {
   "cell_type": "code",
   "execution_count": 2,
   "id": "working-anger",
   "metadata": {},
   "outputs": [],
   "source": [
    "# Region of interest \n",
    "reg = 12\n",
    "\n",
    "# go down from rgi7_scripts/workflow\n",
    "data_dir = '../../rgi7_data/'\n",
    "\n",
    "# Level 2 GLIMS files # we are comparing it later to GRI7a files\n",
    "l2_dir = os.path.join(data_dir, 'l2_sel_reg_tars')\n",
    "\n",
    "# Output directories\n",
    "output_dir = mkdir(os.path.join(data_dir, 'l3_rgi7a'))\n",
    "output_dir_tar = mkdir(os.path.join(data_dir, 'l3_rgi7a_tar'))\n",
    "\n",
    "# RGI v6 file for comparison later \n",
    "# rgi6_reg_file = os.path.join(data_dir, 'l0_RGIv6', '12_rgi60_CaucasusMiddleEast.zip')"
   ]
  },
  {
   "cell_type": "code",
   "execution_count": 3,
   "id": "antique-gather",
   "metadata": {},
   "outputs": [],
   "source": [
    "# Specific to this region: boxes where data has to be selected differently\n",
    "support_dir = os.path.join(data_dir, 'l0_support_data')\n",
    "box_file = os.path.join(support_dir, 'RGI07_R12_UCA.tar.gz')"
   ]
  },
  {
   "cell_type": "markdown",
   "id": "hundred-candy",
   "metadata": {},
   "source": [
    "### Load the input data"
   ]
  },
  {
   "cell_type": "code",
   "execution_count": 4,
   "id": "conservative-formula",
   "metadata": {},
   "outputs": [],
   "source": [
    "# Read L2 files\n",
    "shp = gpd.read_file('tar://' + l2_dir + f'/RGI{reg:02d}.tar.gz/RGI{reg:02d}/RGI{reg:02d}.shp')"
   ]
  },
  {
   "cell_type": "markdown",
   "id": "frozen-tournament",
   "metadata": {},
   "source": [
    "### List of submissions "
   ]
  },
  {
   "cell_type": "code",
   "execution_count": 5,
   "id": "annual-projector",
   "metadata": {},
   "outputs": [
    {
     "name": "stdout",
     "output_type": "stream",
     "text": [
      " 76.0 Nosenko, Gennadi (Gennady) 2004\n",
      " 79.0 Nosenko, Gennadi (Gennady) 2004\n",
      " 81.0 Nosenko, Gennadi (Gennady) 2004\n",
      " 83.0 Nosenko, Gennadi (Gennady) 2004\n",
      " 87.0 Nosenko, Gennadi (Gennady) 2004\n",
      " 327.0 Khromova, Tatyana 2001\n",
      " 341.0 Seliverstov, Yriy 2000\n",
      " 423.0 Nosenko, Gennadi (Gennady) 2004\n",
      " 424.0 Nosenko, Gennadi (Gennady) 1999\n",
      " 425.0 Khromova, Tatyana 1999\n",
      " 426.0 Nosenko, Gennadi (Gennady) 1999\n",
      " 427.0 Nosenko, Gennadi (Gennady) 2001\n",
      " 428.0 Nosenko, Gennadi (Gennady) 2004\n",
      " 429.0 Nosenko, Gennadi (Gennady) 2004\n",
      " 588.0 Ashkan, Farokhnia; Karimi, Neamat; Sara, Sheshangosht 2011\n",
      " 642.0 Tielidze, Levan 2014 2013 2014 2014 2011 2016\n",
      " 643.0 Tielidze, Levan 1987 1985 1986 1986 1986 1987\n",
      " 644.0 Tielidze, Levan 1960\n",
      " 662.0 Sarikaya, Mehmet Akif 2008 2006 2006 2004 2008 2009 2011\n",
      " 724.0 Tielidze, Levan 1999 2000 2000 2000 1999 2002\n"
     ]
    }
   ],
   "source": [
    "toprint = []\n",
    "for subid in shp.subm_id.unique():\n",
    "    s_loc = shp.loc[shp.subm_id == subid]\n",
    "    s = ''\n",
    "    for c in ['subm_id', 'analysts', 'src_date']:\n",
    "        toprint = s_loc[c].unique()\n",
    "        if c != 'src_date':\n",
    "            s += ' ' + (str(toprint[0]))\n",
    "        else:\n",
    "            for d in toprint:\n",
    "                s += ' ' + d[:4]\n",
    "    print(s)"
   ]
  },
  {
   "cell_type": "markdown",
   "id": "sophisticated-subject",
   "metadata": {},
   "source": [
    "### Apply selection criteria to create the RGI7 data subset"
   ]
  },
  {
   "cell_type": "code",
   "execution_count": 6,
   "id": "painful-dairy",
   "metadata": {},
   "outputs": [
    {
     "data": {
      "text/plain": [
       "2185"
      ]
     },
     "execution_count": 6,
     "metadata": {},
     "output_type": "execute_result"
    }
   ],
   "source": [
    "# try to get the data relevant for RGI07 and select by attributes - \n",
    "# for Caucasus we use 'subm_id' 642 by analyst 'Tielidze, Levan' which corresponds to the most recent (ca. 2013)\n",
    "# of three available data sets for Caucasus by this anayst (others are from around 1960 and appr. 1985 respectively)\n",
    "RGI_ss_caucasus = shp.loc[shp['subm_id'] == 724]\n",
    "len(RGI_ss_caucasus)"
   ]
  },
  {
   "cell_type": "code",
   "execution_count": 7,
   "id": "graduate-sunset",
   "metadata": {},
   "outputs": [
    {
     "data": {
      "text/plain": [
       "484"
      ]
     },
     "execution_count": 7,
     "metadata": {},
     "output_type": "execute_result"
    }
   ],
   "source": [
    "# try to get the data relevant for RGI07 and select by attributes - for Middle East: 'subm_id' 588 ()\n",
    "RGI_ss_middle_east = shp.loc[shp['subm_id'] == 588]\n",
    "len(RGI_ss_middle_east)"
   ]
  },
  {
   "cell_type": "code",
   "execution_count": 8,
   "id": "announced-thumb",
   "metadata": {},
   "outputs": [
    {
     "data": {
      "text/plain": [
       "line_type                                            glac_bound\n",
       "anlys_id                                               297051.0\n",
       "glac_id                                          G049337E33320N\n",
       "anlys_time                                  2014-07-05T00:00:00\n",
       "area                                                4651.577985\n",
       "db_area                                                0.004652\n",
       "width                                                       0.0\n",
       "length                                                      0.0\n",
       "primeclass                                                  0.0\n",
       "min_elev                                                    0.0\n",
       "mean_elev                                                   0.0\n",
       "max_elev                                                    0.0\n",
       "src_date                                    2011-09-01T00:00:00\n",
       "rec_status                                                 okay\n",
       "glac_name                                                  None\n",
       "wgms_id                                                    None\n",
       "local_id                               GR49.3363E33.3198N_Osh15\n",
       "glac_stat                                                exists\n",
       "subm_id                                                   588.0\n",
       "release_dt                                  2015-03-06T09:00:00\n",
       "proc_desc     Image band ratio method for clean ice; thermal...\n",
       "rc_id                                                      23.0\n",
       "geog_area                                                  Iran\n",
       "chief_affl                  K.N. Toosi University of Technology\n",
       "loc_unc_x                                                    50\n",
       "loc_unc_y                                                    50\n",
       "glob_unc_x                                                   80\n",
       "glob_unc_y                                                   80\n",
       "submitters                                       Karimi, Neamat\n",
       "analysts      Ashkan, Farokhnia; Karimi, Neamat; Sara, Shesh...\n",
       "CenLon                                                 49.33693\n",
       "CenLat                                                33.319925\n",
       "geometry      POLYGON Z ((49.336855 33.320444 0, 49.336874 3...\n",
       "Name: 1299, dtype: object"
      ]
     },
     "execution_count": 8,
     "metadata": {},
     "output_type": "execute_result"
    }
   ],
   "source": [
    "RGI_ss_middle_east.iloc[0]"
   ]
  },
  {
   "cell_type": "code",
   "execution_count": 9,
   "id": "massive-precipitation",
   "metadata": {},
   "outputs": [],
   "source": [
    "# combine the two geodataframes\n",
    "RGI_ss = RGI_ss_caucasus.append(RGI_ss_middle_east)"
   ]
  },
  {
   "cell_type": "markdown",
   "id": "aggressive-asian",
   "metadata": {},
   "source": [
    "### Should we add some 1985 glaciers for completeness?"
   ]
  },
  {
   "cell_type": "markdown",
   "id": "dietary-measurement",
   "metadata": {},
   "source": [
    "Hugonnet et al made a subjective choice to add some 1985 glaciers... should we as well?"
   ]
  },
  {
   "cell_type": "code",
   "execution_count": 10,
   "id": "mounted-globe",
   "metadata": {},
   "outputs": [],
   "source": [
    "# We decided not to for now\n",
    "# EG:\n",
    "# RGI_ss_caucasus_1985 = shp.loc[shp['subm_id'] == 644]\n",
    "# len(RGI_ss_caucasus_1985)"
   ]
  },
  {
   "cell_type": "markdown",
   "id": "impressive-limit",
   "metadata": {},
   "source": [
    "### Should we add missing glaciers (only a few in peripheral areas) based on RGI06?"
   ]
  },
  {
   "cell_type": "markdown",
   "id": "objective-welcome",
   "metadata": {},
   "source": [
    "This is done based on a manually created shapefile mask containing the few glacierized areas not considered in the above data. Note that many of the glaciers added by this procedure are not glaciers by common definition but rock glaciers or even areas without ice in reality. Apart from that, outlines partly suffer from incorrect spatial positioning etc...  "
   ]
  },
  {
   "cell_type": "code",
   "execution_count": 11,
   "id": "alert-indie",
   "metadata": {},
   "outputs": [],
   "source": [
    "# load a shapefile containing polygons which define areas uncovered by newly created RGI07 file\n",
    "UCA = gpd.read_file('tar://' + box_file + '/RGI07_R12_UCA/RGI07_R12_UCA.shp')"
   ]
  },
  {
   "cell_type": "code",
   "execution_count": 12,
   "id": "diverse-hebrew",
   "metadata": {},
   "outputs": [],
   "source": [
    "# extract glacier outlines for regions mentioned above from glims data\n",
    "df_UCA = gpd.overlay(shp, UCA, how='intersection')"
   ]
  },
  {
   "cell_type": "code",
   "execution_count": 13,
   "id": "minute-immunology",
   "metadata": {},
   "outputs": [],
   "source": [
    "# select submission ID of interesst (for RGI07 only subm_ID 662 available)\n",
    "df_UCA = df_UCA.loc[df_UCA['subm_id']== 662]"
   ]
  },
  {
   "cell_type": "code",
   "execution_count": 14,
   "id": "modular-edgar",
   "metadata": {},
   "outputs": [],
   "source": [
    "# append df_UCA to RGI_ss\n",
    "RGI_ss = RGI_ss.append(df_UCA, sort = False);"
   ]
  },
  {
   "cell_type": "markdown",
   "id": "worth-bleeding",
   "metadata": {},
   "source": [
    "## Write out and tar "
   ]
  },
  {
   "cell_type": "code",
   "execution_count": 15,
   "id": "portuguese-malta",
   "metadata": {},
   "outputs": [
    {
     "name": "stdout",
     "output_type": "stream",
     "text": [
      "Writing...\n",
      "Taring...\n",
      "RGI12/\n",
      "RGI12/RGI12.cpg\n",
      "RGI12/RGI12.dbf\n",
      "RGI12/RGI12.prj\n",
      "RGI12/RGI12.shp\n",
      "RGI12/RGI12.shx\n",
      "CompletedProcess(args=['tar', '-zcvf', '../../rgi7_data/l3_rgi7a_tar/RGI12.tar.gz', '-C', '../../rgi7_data/l3_rgi7a', 'RGI12'], returncode=0)\n"
     ]
    }
   ],
   "source": [
    "dd = mkdir(f'{output_dir}/RGI{reg:02d}/', reset=True)\n",
    "\n",
    "print('Writing...')\n",
    "RGI_ss.to_file(dd + f'RGI{reg:02d}.shp')\n",
    "\n",
    "print('Taring...')\n",
    "print(subprocess.run(['tar', '-zcvf', f'{output_dir_tar}/RGI{reg:02d}.tar.gz', '-C', output_dir, f'RGI{reg:02d}']))"
   ]
  },
  {
   "cell_type": "markdown",
   "id": "engaged-rescue",
   "metadata": {},
   "source": [
    "## New RGI-file created - Check result!"
   ]
  },
  {
   "cell_type": "markdown",
   "id": "returning-paintball",
   "metadata": {},
   "source": [
    "### load reference data (here RGI6) to enable comparison"
   ]
  },
  {
   "cell_type": "code",
   "execution_count": 16,
   "id": "animal-thanks",
   "metadata": {},
   "outputs": [],
   "source": [
    "# Just to know the name of the file to open from zip\n",
    "#import zipfile\n",
    "#with zipfile.ZipFile(rgi6_reg_file, \"r\") as z:\n",
    "#    for f in z.filelist:\n",
    "#        if '.shp' in f.filename:\n",
    "#            fname = f.filename\n",
    "\n",
    "# load reference data \n",
    "#ref_odf = gpd.read_file('zip://' + rgi6_reg_file + '/' + fname)\n",
    "\n"
   ]
  },
  {
   "cell_type": "code",
   "execution_count": 17,
   "id": "e1f8147f-f15b-44fc-b10b-d95a4b5a7628",
   "metadata": {},
   "outputs": [
    {
     "data": {
      "text/plain": [
       "geopandas.geodataframe.GeoDataFrame"
      ]
     },
     "execution_count": 17,
     "metadata": {},
     "output_type": "execute_result"
    }
   ],
   "source": [
    "# now the reference data to be compared with is GLIMS (l2 files)\n",
    "ref_odf = gpd.read_file(l2_dir + '/' + 'RGI12')\n",
    "type(ref_odf)"
   ]
  },
  {
   "cell_type": "markdown",
   "id": "outdoor-greece",
   "metadata": {},
   "source": [
    "## Compare new RGI-file and reference data set "
   ]
  },
  {
   "cell_type": "markdown",
   "id": "solar-support",
   "metadata": {},
   "source": [
    "### Number of elements (differences do not necessarily depict major problems)"
   ]
  },
  {
   "cell_type": "code",
   "execution_count": 18,
   "id": "527af0e6-2002-47ea-927a-dbc914b040e9",
   "metadata": {},
   "outputs": [
    {
     "name": "stdout",
     "output_type": "stream",
     "text": [
      "Number of glaciers in new RGI subset: 2720\n",
      "Number of glaciers in reference data: 10599\n",
      "Difference: -7879\n"
     ]
    }
   ],
   "source": [
    "print('Number of glaciers in new RGI subset:', len(RGI_ss))\n",
    "print('Number of glaciers in reference data:', len(ref_odf))\n",
    "print('Difference:', len(RGI_ss)-len(ref_odf))"
   ]
  },
  {
   "cell_type": "code",
   "execution_count": 19,
   "id": "de0bffb9-94a2-4d60-b64d-75e905f98628",
   "metadata": {},
   "outputs": [
    {
     "name": "stdout",
     "output_type": "stream",
     "text": [
      "GLIMS:| Min id: 1504.0 |Max id: 720332.0\n"
     ]
    }
   ],
   "source": [
    "print('GLIMS:| Min id:', ref_odf['anlys_id'].min(), '|Max id:', ref_odf['anlys_id'].max())"
   ]
  },
  {
   "cell_type": "code",
   "execution_count": 33,
   "id": "2f9f968b-dc95-402f-bb4b-d40f5dfd5df7",
   "metadata": {},
   "outputs": [
    {
     "name": "stdout",
     "output_type": "stream",
     "text": [
      "RGI7a:| Min id: 297051.0 |Max id: 720332.0\n",
      "\n"
     ]
    }
   ],
   "source": [
    "print('RGI7a:| Min id:',RGI_ss['anlys_id'].min(), '|Max id:',RGI_ss['anlys_id'].max())\n",
    "print()"
   ]
  },
  {
   "cell_type": "markdown",
   "id": "e9ba2b75-2485-4279-82f6-4d56480a542a",
   "metadata": {},
   "source": [
    "The interior GLIMS polygons have the same glacierID as the exterior one, so for every glacier there are several polygons with the same glacierID.\n",
    "If both datasets agree, the number of glacier IDs should be the same: **but it is not**"
   ]
  },
  {
   "cell_type": "code",
   "execution_count": 21,
   "id": "3869553a-3947-4b82-b0be-212f13e08894",
   "metadata": {},
   "outputs": [
    {
     "name": "stdout",
     "output_type": "stream",
     "text": [
      "GLIMS: 4231\n",
      "RGI7a: 2720\n"
     ]
    }
   ],
   "source": [
    "# see how many glaciers are there (unique glacierIDs)\n",
    "print('GLIMS:',len(ref_odf['glac_id'].unique()))\n",
    "# see how many glaciers are there (unique glacierIDs)\n",
    "print('RGI7a:',len(RGI_ss['glac_id'].unique()))"
   ]
  },
  {
   "cell_type": "code",
   "execution_count": 22,
   "id": "9f4da2dc-5c47-4e95-ba7a-f8d6df72c2ed",
   "metadata": {},
   "outputs": [
    {
     "name": "stdout",
     "output_type": "stream",
     "text": [
      "6368\n",
      "0\n"
     ]
    }
   ],
   "source": [
    "# duplicated glaciers? \n",
    "print(ref_odf['glac_id'].duplicated().sum())\n",
    "#--> 6368 glaciers are duplicated. total_glaciers - unique_glaciers = duplicated_glaciers; 10599-4231 = 6368 --> ok, because the interior polygons count as glacier with same id.\n",
    "\n",
    "# duplicated glaciers? \n",
    "print(RGI_ss['glac_id'].duplicated().sum())\n",
    "#--> 5 glaciers are duplicated 2556-2551 = 5. --> not ok, 5 glacier duplicated."
   ]
  },
  {
   "cell_type": "markdown",
   "id": "c139e81d-0467-49a1-8e25-4093dee3846c",
   "metadata": {},
   "source": [
    "We see now what are the glaciers that are duplicated:"
   ]
  },
  {
   "cell_type": "code",
   "execution_count": 23,
   "id": "2d6b62df-dbed-457f-bb7f-dd80d65fdf94",
   "metadata": {},
   "outputs": [
    {
     "name": "stdout",
     "output_type": "stream",
     "text": [
      "Duplicated glaciers ID in RGI7a are:\n"
     ]
    },
    {
     "data": {
      "text/plain": [
       "Series([], Name: glac_id, dtype: object)"
      ]
     },
     "execution_count": 23,
     "metadata": {},
     "output_type": "execute_result"
    }
   ],
   "source": [
    "print(\"Duplicated glaciers ID in RGI7a are:\")\n",
    "RGI_ss['glac_id'].loc[RGI_ss['glac_id'].duplicated()]"
   ]
  },
  {
   "cell_type": "code",
   "execution_count": 24,
   "id": "82f54045-78da-4110-a770-1f2539e244b0",
   "metadata": {},
   "outputs": [],
   "source": [
    "#ref_odf[ref_odf['glac_id'].duplicated()]\n",
    "#RGI_ss['glac_id'].duplicated()"
   ]
  },
  {
   "cell_type": "markdown",
   "id": "b29fff6a-7a4d-4ee8-a707-26e777aa4ece",
   "metadata": {},
   "source": [
    "Show more details about the dupplicated glaciers:"
   ]
  },
  {
   "cell_type": "code",
   "execution_count": 25,
   "id": "ba7b42ab-dc2c-4c23-afa2-f39277759ad5",
   "metadata": {},
   "outputs": [
    {
     "data": {
      "text/plain": [
       "Series([], Name: src_date, dtype: object)"
      ]
     },
     "execution_count": 25,
     "metadata": {},
     "output_type": "execute_result"
    }
   ],
   "source": [
    "#print(ref_#odf[\"glac_id\"])\n",
    "dup = RGI_ss.loc[RGI_ss['glac_id'].duplicated()]\n",
    "\n",
    "#location of the duplicated element(s) and their original element:\n",
    "ind = RGI_ss[['glac_id', 'src_date']].loc[RGI_ss['glac_id'].duplicated()].index\n",
    "#print(RGI_ss.loc[RGI_ss['glac_id'].duplicated()])\n",
    "dup = RGI_ss[\"glac_id\"][RGI_ss['glac_id'].duplicated()]\n",
    "dup_a = dup.values\n",
    "\n",
    "dup_l = dup_a.tolist()\n",
    "\n",
    "a=RGI_ss.loc[RGI_ss['glac_id'].isin(dup_l)]\n",
    "a[\"src_date\"]\n",
    "#RGI_ss['glac_id'].isin([dup.values])\n",
    "#print(ind)\n",
    "#RGI_ss.loc[RGI_ss['glac_id'][ind]]\n",
    "\n",
    "#RGI_ss[RGI_ss[\"glac_id\"] == ind[1]]\n",
    "#ind[1]\n",
    "#print(RGI_ss['glac_id'][ind-1])\n",
    "#type(RGI_ss['glac_id'][ind-1])\n",
    "\n",
    "#od = pd.concat([RGI_ss['glac_id'][ind], RGI_ss['glac_id'][ind-1]], axis=0)\n",
    "#dupdup = od.sort_index(axis=0)\n",
    "#np.array(dupdup)\n",
    "\n",
    "#RGI_ss['glac_id'].duplicated()\n",
    "#RGI_ss[dupdup[1:3]]\n",
    "#dupdup.index\n",
    "#a = pd.concat([RGI_ss['glac_id'][ind], RGI_ss['glac_id'][ind-1]])\n",
    "#RGI_ss['glac_id'].loc[RGI_ss['glac_id'][a]]\n",
    "#type(RGI_ss['glac_id'][ind])\n",
    "#print(RGI_ss['glac_id'][ind-1])\n",
    "\n",
    "#RGI_ss[(ind-1):ind]\n",
    "#type(list(range(1,4)))\n",
    "#RGI_ss[]"
   ]
  },
  {
   "cell_type": "code",
   "execution_count": 26,
   "id": "265a9228-dbd9-4ff1-aa2a-c8f1800fb197",
   "metadata": {},
   "outputs": [
    {
     "data": {
      "text/plain": [
       "8363    G035444E38534N\n",
       "8364    G039118E39476N\n",
       "8365    G039124E39475N\n",
       "8366    G039136E39495N\n",
       "8367    G039288E39456N\n",
       "             ...      \n",
       "1777    G052136E35970N\n",
       "1565    G052226E35769N\n",
       "1669    G052227E35770N\n",
       "1391    G052227E35772N\n",
       "1769    G052236E35770N\n",
       "Name: glac_id, Length: 10599, dtype: object"
      ]
     },
     "execution_count": 26,
     "metadata": {},
     "output_type": "execute_result"
    }
   ],
   "source": [
    "ref_odf.sort_values(by = \"glac_id\")[\"glac_id\"]"
   ]
  },
  {
   "cell_type": "code",
   "execution_count": 27,
   "id": "2f756902-7a63-4be5-aae8-a632e28224b4",
   "metadata": {},
   "outputs": [
    {
     "data": {
      "text/plain": [
       "2235"
      ]
     },
     "execution_count": 27,
     "metadata": {},
     "output_type": "execute_result"
    }
   ],
   "source": [
    "10599-8364"
   ]
  },
  {
   "cell_type": "markdown",
   "id": "noted-camel",
   "metadata": {
    "tags": []
   },
   "source": [
    "### How many nominal glaciers were there in RGI06-R12?"
   ]
  },
  {
   "cell_type": "code",
   "execution_count": 28,
   "id": "forward-palestinian",
   "metadata": {},
   "outputs": [],
   "source": [
    "#len(ref_odf.loc[ref_odf.Status == 2])"
   ]
  },
  {
   "cell_type": "markdown",
   "id": "unexpected-regression",
   "metadata": {
    "tags": []
   },
   "source": [
    "### Total area"
   ]
  },
  {
   "cell_type": "code",
   "execution_count": 29,
   "id": "secondary-riding",
   "metadata": {},
   "outputs": [],
   "source": [
    "# add an area field to RGI_ss and reference data\n",
    "RGI_ss['area'] = RGI_ss.to_crs({'proj':'cea'}).area\n",
    "ref_odf['area'] = ref_odf.to_crs({'proj':'cea'}).area"
   ]
  },
  {
   "cell_type": "code",
   "execution_count": 30,
   "id": "digital-telescope",
   "metadata": {},
   "outputs": [
    {
     "name": "stdout",
     "output_type": "stream",
     "text": [
      "Area RGI7a [km²]: 1433.0\n",
      "Area Ref (GLIMS) [km²]: 6885.0\n",
      "Area difference [km²]: -5452.0 \n",
      "Area difference: 79.0 %\n"
     ]
    }
   ],
   "source": [
    "# print and compare area values\n",
    "Area_RGI = RGI_ss['area'].sum() * 1e-6\n",
    "print('Area RGI7a [km²]:', np.round(Area_RGI))\n",
    "Area_ref = ref_odf['area'].sum() * 1e-6\n",
    "print('Area Ref (GLIMS) [km²]:', np.round(Area_ref))\n",
    "d = np.round((Area_RGI - Area_ref))\n",
    "print('Area difference [km²]:', d, '\\nArea difference:', np.round(abs((Area_RGI-Area_ref)/Area_ref*100)),'%')"
   ]
  },
  {
   "cell_type": "markdown",
   "id": "eaed9aa9-abd0-4674-a0aa-694d9a7603d9",
   "metadata": {},
   "source": [
    "This difference is due to the fact that the interior polygons in GLIMS count as positive area, not as a \"hole\" inside the outer polygon.\n",
    "I don't know how to distinguish the inner/outer polygons in GLIMs `l2_*` files as the line_type attribute is unique. Here an example: "
   ]
  },
  {
   "cell_type": "code",
   "execution_count": 31,
   "id": "999a420a-74bb-447c-9ccf-f73555e7df55",
   "metadata": {},
   "outputs": [
    {
     "data": {
      "text/html": [
       "<div>\n",
       "<style scoped>\n",
       "    .dataframe tbody tr th:only-of-type {\n",
       "        vertical-align: middle;\n",
       "    }\n",
       "\n",
       "    .dataframe tbody tr th {\n",
       "        vertical-align: top;\n",
       "    }\n",
       "\n",
       "    .dataframe thead th {\n",
       "        text-align: right;\n",
       "    }\n",
       "</style>\n",
       "<table border=\"1\" class=\"dataframe\">\n",
       "  <thead>\n",
       "    <tr style=\"text-align: right;\">\n",
       "      <th></th>\n",
       "      <th>line_type</th>\n",
       "      <th>anlys_id</th>\n",
       "      <th>glac_id</th>\n",
       "      <th>anlys_time</th>\n",
       "      <th>area</th>\n",
       "      <th>db_area</th>\n",
       "      <th>width</th>\n",
       "      <th>length</th>\n",
       "      <th>primeclass</th>\n",
       "      <th>min_elev</th>\n",
       "      <th>...</th>\n",
       "      <th>chief_affl</th>\n",
       "      <th>loc_unc_x</th>\n",
       "      <th>loc_unc_y</th>\n",
       "      <th>glob_unc_x</th>\n",
       "      <th>glob_unc_y</th>\n",
       "      <th>submitters</th>\n",
       "      <th>analysts</th>\n",
       "      <th>CenLon</th>\n",
       "      <th>CenLat</th>\n",
       "      <th>geometry</th>\n",
       "    </tr>\n",
       "  </thead>\n",
       "  <tbody>\n",
       "    <tr>\n",
       "      <th>2008</th>\n",
       "      <td>glac_bound</td>\n",
       "      <td>509372.0</td>\n",
       "      <td>G041335E43260N</td>\n",
       "      <td>2017-08-01T00:00:00</td>\n",
       "      <td>23342.251384</td>\n",
       "      <td>0.023342</td>\n",
       "      <td>0.0</td>\n",
       "      <td>0.0</td>\n",
       "      <td>0.0</td>\n",
       "      <td>0.0</td>\n",
       "      <td>...</td>\n",
       "      <td>Ivane Javakhishvili Tbilisi State University</td>\n",
       "      <td>50</td>\n",
       "      <td>50</td>\n",
       "      <td>80</td>\n",
       "      <td>80</td>\n",
       "      <td>Tielidze, Levan</td>\n",
       "      <td>Tielidze, Levan</td>\n",
       "      <td>41.335438</td>\n",
       "      <td>43.259960</td>\n",
       "      <td>POLYGON Z ((41.33609 43.26000 0.00000, 41.3361...</td>\n",
       "    </tr>\n",
       "    <tr>\n",
       "      <th>4027</th>\n",
       "      <td>glac_bound</td>\n",
       "      <td>511386.0</td>\n",
       "      <td>G041335E43260N</td>\n",
       "      <td>2017-08-01T00:00:00</td>\n",
       "      <td>40762.594635</td>\n",
       "      <td>0.040763</td>\n",
       "      <td>0.0</td>\n",
       "      <td>0.0</td>\n",
       "      <td>0.0</td>\n",
       "      <td>0.0</td>\n",
       "      <td>...</td>\n",
       "      <td>Ivane Javakhishvili Tbilisi State University</td>\n",
       "      <td>50</td>\n",
       "      <td>50</td>\n",
       "      <td>80</td>\n",
       "      <td>80</td>\n",
       "      <td>Tielidze, Levan</td>\n",
       "      <td>Tielidze, Levan</td>\n",
       "      <td>41.335504</td>\n",
       "      <td>43.260042</td>\n",
       "      <td>POLYGON Z ((41.33671 43.25966 0.00000, 41.3368...</td>\n",
       "    </tr>\n",
       "    <tr>\n",
       "      <th>6220</th>\n",
       "      <td>glac_bound</td>\n",
       "      <td>513576.0</td>\n",
       "      <td>G041335E43260N</td>\n",
       "      <td>2017-08-01T00:00:00</td>\n",
       "      <td>16721.943418</td>\n",
       "      <td>0.016722</td>\n",
       "      <td>0.0</td>\n",
       "      <td>0.0</td>\n",
       "      <td>0.0</td>\n",
       "      <td>0.0</td>\n",
       "      <td>...</td>\n",
       "      <td>Ivane Javakhishvili Tbilisi State University</td>\n",
       "      <td>50</td>\n",
       "      <td>50</td>\n",
       "      <td>80</td>\n",
       "      <td>80</td>\n",
       "      <td>Tielidze, Levan</td>\n",
       "      <td>Tielidze, Levan</td>\n",
       "      <td>41.335158</td>\n",
       "      <td>43.260519</td>\n",
       "      <td>POLYGON Z ((41.33576 43.26089 0.00000, 41.3360...</td>\n",
       "    </tr>\n",
       "    <tr>\n",
       "      <th>8659</th>\n",
       "      <td>glac_bound</td>\n",
       "      <td>718393.0</td>\n",
       "      <td>G041335E43260N</td>\n",
       "      <td>2020-12-01T00:00:00</td>\n",
       "      <td>33238.524283</td>\n",
       "      <td>0.033238</td>\n",
       "      <td>0.0</td>\n",
       "      <td>0.0</td>\n",
       "      <td>0.0</td>\n",
       "      <td>0.0</td>\n",
       "      <td>...</td>\n",
       "      <td>Ivane Javakhishvili Tbilisi State University</td>\n",
       "      <td>50</td>\n",
       "      <td>50</td>\n",
       "      <td>80</td>\n",
       "      <td>80</td>\n",
       "      <td>Tielidze, Levan</td>\n",
       "      <td>Tielidze, Levan</td>\n",
       "      <td>41.335461</td>\n",
       "      <td>43.260007</td>\n",
       "      <td>POLYGON Z ((41.33428 43.26059 0.00000, 41.3342...</td>\n",
       "    </tr>\n",
       "  </tbody>\n",
       "</table>\n",
       "<p>4 rows × 33 columns</p>\n",
       "</div>"
      ],
      "text/plain": [
       "       line_type  anlys_id         glac_id           anlys_time          area  \\\n",
       "2008  glac_bound  509372.0  G041335E43260N  2017-08-01T00:00:00  23342.251384   \n",
       "4027  glac_bound  511386.0  G041335E43260N  2017-08-01T00:00:00  40762.594635   \n",
       "6220  glac_bound  513576.0  G041335E43260N  2017-08-01T00:00:00  16721.943418   \n",
       "8659  glac_bound  718393.0  G041335E43260N  2020-12-01T00:00:00  33238.524283   \n",
       "\n",
       "       db_area  width  length  primeclass  min_elev  ...  \\\n",
       "2008  0.023342    0.0     0.0         0.0       0.0  ...   \n",
       "4027  0.040763    0.0     0.0         0.0       0.0  ...   \n",
       "6220  0.016722    0.0     0.0         0.0       0.0  ...   \n",
       "8659  0.033238    0.0     0.0         0.0       0.0  ...   \n",
       "\n",
       "                                        chief_affl  loc_unc_x loc_unc_y  \\\n",
       "2008  Ivane Javakhishvili Tbilisi State University         50        50   \n",
       "4027  Ivane Javakhishvili Tbilisi State University         50        50   \n",
       "6220  Ivane Javakhishvili Tbilisi State University         50        50   \n",
       "8659  Ivane Javakhishvili Tbilisi State University         50        50   \n",
       "\n",
       "     glob_unc_x glob_unc_y       submitters         analysts     CenLon  \\\n",
       "2008         80         80  Tielidze, Levan  Tielidze, Levan  41.335438   \n",
       "4027         80         80  Tielidze, Levan  Tielidze, Levan  41.335504   \n",
       "6220         80         80  Tielidze, Levan  Tielidze, Levan  41.335158   \n",
       "8659         80         80  Tielidze, Levan  Tielidze, Levan  41.335461   \n",
       "\n",
       "         CenLat                                           geometry  \n",
       "2008  43.259960  POLYGON Z ((41.33609 43.26000 0.00000, 41.3361...  \n",
       "4027  43.260042  POLYGON Z ((41.33671 43.25966 0.00000, 41.3368...  \n",
       "6220  43.260519  POLYGON Z ((41.33576 43.26089 0.00000, 41.3360...  \n",
       "8659  43.260007  POLYGON Z ((41.33428 43.26059 0.00000, 41.3342...  \n",
       "\n",
       "[4 rows x 33 columns]"
      ]
     },
     "execution_count": 31,
     "metadata": {},
     "output_type": "execute_result"
    }
   ],
   "source": [
    "G041335E43260N = ref_odf.loc[ref_odf['glac_id'] == 'G041335E43260N']\n",
    "G041335E43260N\n",
    "\n"
   ]
  },
  {
   "cell_type": "code",
   "execution_count": 32,
   "id": "b76ffce0-9e04-4236-92d2-c856e68f3924",
   "metadata": {},
   "outputs": [
    {
     "data": {
      "image/png": "[encoded data removed]",
      "text/plain": [
       "<Figure size 432x288 with 1 Axes>"
      ]
     },
     "metadata": {
      "needs_background": "light"
     },
     "output_type": "display_data"
    },
    {
     "data": {
      "image/png": "[encoded data removed]",
      "text/plain": [
       "<Figure size 432x288 with 1 Axes>"
      ]
     },
     "metadata": {
      "needs_background": "light"
     },
     "output_type": "display_data"
    },
    {
     "data": {
      "image/png": "[encoded data removed]",
      "text/plain": [
       "<Figure size 432x288 with 1 Axes>"
      ]
     },
     "metadata": {
      "needs_background": "light"
     },
     "output_type": "display_data"
    },
    {
     "data": {
      "image/png": "[encoded data removed]",
      "text/plain": [
       "<Figure size 432x288 with 1 Axes>"
      ]
     },
     "metadata": {
      "needs_background": "light"
     },
     "output_type": "display_data"
    }
   ],
   "source": [
    "for i in range(len(G041335E43260N)):\n",
    "    pl = G041335E43260N.iloc[[i]].plot()\n",
    "#pl.set_xlim([43.3, ])\n",
    "    pl.set_ylim([43.258, 43.262])\n",
    "    pl.set_xlim([41.334, 41.3371])"
   ]
  },
  {
   "cell_type": "markdown",
   "id": "intensive-rally",
   "metadata": {},
   "source": [
    "# End of revised noteboook"
   ]
  }
 ],
 "metadata": {
  "kernelspec": {
   "display_name": "Python 3 (ipykernel)",
   "language": "python",
   "name": "python3"
  },
  "language_info": {
   "codemirror_mode": {
    "name": "ipython",
    "version": 3
   },
   "file_extension": ".py",
   "mimetype": "text/x-python",
   "name": "python",
   "nbconvert_exporter": "python",
   "pygments_lexer": "ipython3",
   "version": "3.8.12"
  }
 },
 "nbformat": 4,
 "nbformat_minor": 5
}
